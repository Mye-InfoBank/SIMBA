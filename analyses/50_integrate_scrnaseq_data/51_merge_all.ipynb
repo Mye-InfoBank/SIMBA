{
 "cells": [
  {
   "cell_type": "code",
   "execution_count": 1,
   "metadata": {},
   "outputs": [],
   "source": [
    "%load_ext autoreload\n",
    "%autoreload 2\n",
    "\n",
    "import scanpy as sc\n",
    "import numpy as np\n",
    "import itertools\n",
    "from tqdm import trange\n",
    "import scipy.sparse\n",
    "import numpy.testing as npt\n",
    "from scanpy_helpers.integration import (\n",
    "    normalize_by_gene_length,\n",
    "    sanitize_adata,\n",
    "    validate_adata,\n",
    "    add_doublet_annotation,\n",
    "    undo_log_norm,\n",
    "    remap_gene_symbols,\n",
    "    drop_duplicated_genes,\n",
    "    aggregate_duplicate_gene_symbols,\n",
    "    merge_datasets\n",
    ")\n",
    "from threadpoolctl import threadpool_limits\n",
    "from tqdm.contrib.concurrent import process_map\n",
    "import mygene\n",
    "from operator import and_\n",
    "from functools import reduce\n",
    "import pandas as pd\n",
    "import anndata"
   ]
  },
  {
   "cell_type": "code",
   "execution_count": 2,
   "metadata": {},
   "outputs": [
    {
     "data": {
      "text/plain": [
       "<threadpoolctl.threadpool_limits at 0x7f5108fd9220>"
      ]
     },
     "execution_count": 2,
     "metadata": {},
     "output_type": "execute_result"
    }
   ],
   "source": [
    "threadpool_limits(8)"
   ]
  },
  {
   "cell_type": "code",
   "execution_count": 3,
   "metadata": {},
   "outputs": [],
   "source": [
    "sc.set_figure_params(figsize=(5, 5))"
   ]
  },
  {
   "cell_type": "code",
   "execution_count": 4,
   "metadata": {},
   "outputs": [],
   "source": [
    "annotated_datasets = {\n",
    "    \"Maynard_Bivona_2020_NSCLC\": sc.read_h5ad(\n",
    "        \"../../data/30_annotate_scrnaseq_data/maynard_annotated.h5ad\"\n",
    "    ),\n",
    "    \"Lambrechts_2018_LUAD_6653\": sc.read_h5ad(\n",
    "        \"../../data/30_annotate_scrnaseq_data/lambrechts_annotated.h5ad\"\n",
    "    ),\n",
    "}"
   ]
  },
  {
   "cell_type": "code",
   "execution_count": 5,
   "metadata": {},
   "outputs": [
    {
     "name": "stderr",
     "output_type": "stream",
     "text": [
      "/home/sturm/.conda/envs/pircher-sc-integrate2/lib/python3.8/site-packages/anndata/compat/__init__.py:179: FutureWarning: Moving element from .uns['neighbors']['distances'] to .obsp['distances'].\n",
      "\n",
      "This is where adjacency matrices should go now.\n",
      "  warn(\n",
      "/home/sturm/.conda/envs/pircher-sc-integrate2/lib/python3.8/site-packages/anndata/compat/__init__.py:179: FutureWarning: Moving element from .uns['neighbors']['connectivities'] to .obsp['connectivities'].\n",
      "\n",
      "This is where adjacency matrices should go now.\n",
      "  warn(\n"
     ]
    }
   ],
   "source": [
    "datasets = {\n",
    "    \"Maynard_Bivona_2020_NSCLC\": sc.read_h5ad(\n",
    "        \"../../data/20_qc_norm_scrnaseq/01_qc_and_filtering/Maynard_Bivona_2020_NSCLC/Maynard_Bivona_2020_NSCLC.qc.h5ad\"\n",
    "    ),\n",
    "    \"Lambrechts_2018_LUAD_6653\": sc.read_h5ad(\n",
    "        \"../../data/20_qc_norm_scrnaseq/01_qc_and_filtering/Lambrechts_2018_LUAD_6653/Lambrechts_2018_LUAD_6653.qc.h5ad\"\n",
    "    ),\n",
    "    \"Adams_Kaminski_2020_COPD\": sc.read_h5ad(\n",
    "        \"../../data/20_qc_norm_scrnaseq/01_qc_and_filtering/Adams_Kaminski_2020_COPD/Adams_Kaminski_2020_COPD.qc.h5ad\"\n",
    "    ),\n",
    "    \"Goveia_Carmeliet_2020_NSCLC\": sc.read_h5ad(\n",
    "        \"../../data/20_qc_norm_scrnaseq/01_qc_and_filtering/Goveia_Carmeliet_2020_NSCLC/Goveia_Carmeliet_2020_NSCLC.qc.h5ad\"\n",
    "    ),\n",
    "    \"Guo_Zhang_2018_NSCLC\": sc.read_h5ad(\n",
    "        \"../../data/20_qc_norm_scrnaseq/01_qc_and_filtering/Guo_Zhang_2018_NSCLC/Guo_Zhang_2018_NSCLC.qc.h5ad\"\n",
    "    ),\n",
    "    \"Lambrechts_2018_LUAD_6149\": sc.read_h5ad(\n",
    "        \"../../data/20_qc_norm_scrnaseq/01_qc_and_filtering/Lambrechts_2018_LUAD_6149/Lambrechts_2018_LUAD_6149.qc.h5ad\"\n",
    "    ),\n",
    "    \"Laughney_Massague_2020_NSCLC\": sc.read_h5ad(\n",
    "        \"../../data/20_qc_norm_scrnaseq/01_qc_and_filtering/Laughney_Massague_2020_NSCLC/Laughney_Massague_2020_NSCLC.qc.h5ad\"\n",
    "    ),\n",
    "    \"Lukassen_Eils_2020_LUAD\": sc.read_h5ad(\n",
    "        \"../../data/10_public_datasets/Lukassen_Eils_2020_LUAD/h5ad_processed/lukassen20_lung_orig.processed.h5ad\"\n",
    "    ),\n",
    "    \"Madissoon_Meyer_2020_pulmonary-fibrosis\": sc.read_h5ad(\n",
    "        \"../../data/10_public_datasets/Madissoon_Meyer_2020_pulmonary-fibrosis/h5ad_processed/madissoon19_lung.processed.h5ad\"\n",
    "    ),\n",
    "    \"Maier_Merad_2020_NSCLC\": sc.read_h5ad(\n",
    "        \"../../data/20_qc_norm_scrnaseq/01_qc_and_filtering/Maier_Merad_2020_NSCLC/Maier_Merad_2020_NSCLC.qc.h5ad\"\n",
    "    ),\n",
    "    \"Mayr_Schiller_2020_pulmonary-fibrosis\": sc.read_h5ad(\n",
    "        \"../../data/10_public_datasets/Mayr_Schiller_2020_pulmonary-fibrosis/h5ad/integrated_human_dataset.h5ad\"\n",
    "    ),\n",
    "    \"Pircher_batch1_NSCLC\": sc.read_h5ad(\n",
    "        \"../../data/20_qc_norm_scrnaseq/01_qc_and_filtering/batch1_3patients/batch1_3patients.qc.h5ad\"\n",
    "    ),\n",
    "}"
   ]
  },
  {
   "cell_type": "code",
   "execution_count": 6,
   "metadata": {},
   "outputs": [],
   "source": [
    "doublet_files = {\n",
    "    \"Adams_Kaminski_2020_COPD\": \"../../data/20_qc_norm_scrnaseq/02_solo/Adams_Kaminski_2020_COPD/Adams_Kaminski_2020_COPD.is_doublet.csv\",\n",
    "    \"Goveia_Carmeliet_2020_NSCLC\": \"../../data/20_qc_norm_scrnaseq/02_solo/Goveia_Carmeliet_2020_NSCLC/Goveia_Carmeliet_2020_NSCLC.is_doublet.csv\",\n",
    "    # No doublet filtering for smartseq2\n",
    "    #  \"Guo_Zhang_2018_NSCLC\": \"../../data/20_qc_norm_scrnaseq/02_solo/Guo_Zhang_2018_NSCLC/Guo_Zhang_2018_NSCLC.is_doublet.csv\",\n",
    "    \"Lambrechts_2018_LUAD_6149\": \"../../data/20_qc_norm_scrnaseq/02_solo/Lambrechts_2018_LUAD_6149/Lambrechts_2018_LUAD_6149.is_doublet.csv\",\n",
    "    \"Laughney_Massague_2020_NSCLC\": \"../../data/20_qc_norm_scrnaseq/02_solo/Laughney_Massague_2020_NSCLC/Laughney_Massague_2020_NSCLC.is_doublet.csv\",\n",
    "    \"Maier_Merad_2020_NSCLC\": \"../../data/20_qc_norm_scrnaseq/02_solo/Maier_Merad_2020_NSCLC/Maier_Merad_2020_NSCLC.is_doublet.csv\",\n",
    "    \"Pircher_batch1_NSCLC\": \"../../data/20_qc_norm_scrnaseq/02_solo/batch1_3patients/batch1_3patients.is_doublet.csv\",\n",
    "}"
   ]
  },
  {
   "cell_type": "markdown",
   "metadata": {},
   "source": [
    "### Add doublet information and filter datasets"
   ]
  },
  {
   "cell_type": "code",
   "execution_count": 7,
   "metadata": {},
   "outputs": [],
   "source": [
    "# datasets_vis = process_map(add_doublet_annotation, [datasets[k] for k in doublet_files], doublet_files.values(), doublet_files.keys(), max_workers=16)"
   ]
  },
  {
   "cell_type": "code",
   "execution_count": 13,
   "metadata": {},
   "outputs": [],
   "source": [
    "for dataset_id, dataset in datasets.items():\n",
    "    if \"is_doublet\" in dataset.obs.columns:\n",
    "        datasets[dataset_id] = dataset[dataset.obs[\"is_doublet\"] == \"False\", :].copy()"
   ]
  },
  {
   "cell_type": "markdown",
   "metadata": {},
   "source": [
    "### Dataset-specific filtering and metadata fixes"
   ]
  },
  {
   "cell_type": "code",
   "execution_count": 14,
   "metadata": {},
   "outputs": [],
   "source": [
    "datasets[\"Maynard_Bivona_2020_NSCLC\"] = normalize_by_gene_length(\n",
    "    datasets[\"Maynard_Bivona_2020_NSCLC\"]\n",
    ")"
   ]
  },
  {
   "cell_type": "code",
   "execution_count": 15,
   "metadata": {},
   "outputs": [],
   "source": [
    "datasets[\"Adams_Kaminski_2020_COPD\"].obs[\"origin\"] = \"normal\"\n",
    "datasets[\"Adams_Kaminski_2020_COPD\"].obs[\"sex\"] = \"nan\"\n",
    "datasets[\"Adams_Kaminski_2020_COPD\"] = datasets[\"Adams_Kaminski_2020_COPD\"][\n",
    "    datasets[\"Adams_Kaminski_2020_COPD\"].obs[\"condition\"] != \"IPF\", :\n",
    "]"
   ]
  },
  {
   "cell_type": "code",
   "execution_count": 16,
   "metadata": {},
   "outputs": [],
   "source": [
    "datasets[\"Goveia_Carmeliet_2020_NSCLC\"] = datasets[\"Goveia_Carmeliet_2020_NSCLC\"][\n",
    "    datasets[\"Goveia_Carmeliet_2020_NSCLC\"].obs[\"condition\"] != \"LLCC\"\n",
    "].copy()\n",
    "datasets[\"Goveia_Carmeliet_2020_NSCLC\"].obs[\"sex\"] = \"nan\""
   ]
  },
  {
   "cell_type": "code",
   "execution_count": 17,
   "metadata": {},
   "outputs": [],
   "source": [
    "datasets[\"Guo_Zhang_2018_NSCLC\"] = datasets[\"Guo_Zhang_2018_NSCLC\"][\n",
    "    datasets[\"Guo_Zhang_2018_NSCLC\"].obs[\"tissue\"] != \"blood\"\n",
    "].copy()\n",
    "datasets[\"Guo_Zhang_2018_NSCLC\"] = normalize_by_gene_length(\n",
    "    datasets[\"Guo_Zhang_2018_NSCLC\"]\n",
    ")\n",
    "datasets[\"Guo_Zhang_2018_NSCLC\"].obs[\"sex\"] = \"nan\""
   ]
  },
  {
   "cell_type": "code",
   "execution_count": 18,
   "metadata": {},
   "outputs": [],
   "source": [
    "datasets[\"Laughney_Massague_2020_NSCLC\"].obs[\"sex\"] = \"nan\""
   ]
  },
  {
   "cell_type": "code",
   "execution_count": 19,
   "metadata": {},
   "outputs": [],
   "source": [
    "undo_log_norm(datasets[\"Lukassen_Eils_2020_LUAD\"])\n",
    "datasets[\"Lukassen_Eils_2020_LUAD\"].obs[\"sex\"] = [\n",
    "    {\"M\": \"male\", \"F\": \"female\"}[s]\n",
    "    for s in datasets[\"Lukassen_Eils_2020_LUAD\"].obs[\"sex\"]\n",
    "]"
   ]
  },
  {
   "cell_type": "code",
   "execution_count": 20,
   "metadata": {},
   "outputs": [],
   "source": [
    "tmp_obs = datasets[\"Lukassen_Eils_2020_LUAD\"].obs\n",
    "tmp_obs[\"patient\"] = tmp_obs[\"orig.ident\"]\n",
    "tmp_obs[\"sample\"] = tmp_obs[\"orig.ident\"]\n",
    "tmp_obs[\"tissue\"] = \"lung\"\n",
    "tmp_obs[\"origin\"] = \"normal\"\n",
    "tmp_obs[\"condition\"] = \"LUAD\""
   ]
  },
  {
   "cell_type": "code",
   "execution_count": 21,
   "metadata": {},
   "outputs": [],
   "source": [
    "datasets[\"Madissoon_Meyer_2020_pulmonary-fibrosis\"].obs[\"tissue\"] = \"lung\"\n",
    "datasets[\"Madissoon_Meyer_2020_pulmonary-fibrosis\"].obs[\"origin\"] = \"normal\"\n",
    "datasets[\"Madissoon_Meyer_2020_pulmonary-fibrosis\"].obs[\"condition\"] = \"healthy_control\"\n",
    "datasets[\"Madissoon_Meyer_2020_pulmonary-fibrosis\"].obs[\"sex\"] = \"nan\"\n",
    "datasets[\"Madissoon_Meyer_2020_pulmonary-fibrosis\"].X.data = np.rint(\n",
    "    datasets[\"Madissoon_Meyer_2020_pulmonary-fibrosis\"].X.data\n",
    ")"
   ]
  },
  {
   "cell_type": "code",
   "execution_count": 22,
   "metadata": {},
   "outputs": [],
   "source": [
    "datasets[\"Maier_Merad_2020_NSCLC\"].obs[\"sex\"] = \"nan\""
   ]
  },
  {
   "cell_type": "code",
   "execution_count": 23,
   "metadata": {},
   "outputs": [],
   "source": [
    "tmp_obs = datasets[\"Mayr_Schiller_2020_pulmonary-fibrosis\"].obs\n",
    "tmp_obs[\"sex\"] = [{\"M\": \"male\", \"F\": \"female\"}[s] for s in tmp_obs[\"Sex\"]]\n",
    "tmp_obs[\"condition\"] = [\n",
    "    {\n",
    "        \"control donor\": \"healthy_control\",\n",
    "        \"endstage lung fibrosis\": \"pulmonary_fibrosis\",\n",
    "    }[d]\n",
    "    for d in tmp_obs[\"health_status\"]\n",
    "]\n",
    "tmp_obs[\"patient\"] = tmp_obs[\"patient_id\"]\n",
    "tmp_obs[\"sample\"] = tmp_obs[\"patient_id\"]\n",
    "tmp_obs[\"tissue\"] = \"lung\"\n",
    "tmp_obs[\"origin\"] = \"normal\"\n",
    "\n",
    "datasets[\"Mayr_Schiller_2020_pulmonary-fibrosis\"] = datasets[\n",
    "    \"Mayr_Schiller_2020_pulmonary-fibrosis\"\n",
    "][\n",
    "    datasets[\"Mayr_Schiller_2020_pulmonary-fibrosis\"].obs[\"condition\"]\n",
    "    != \"pulmonary_fibrosis\",\n",
    "    :,\n",
    "].copy()"
   ]
  },
  {
   "cell_type": "markdown",
   "metadata": {},
   "source": [
    "### make patients unique across datasets"
   ]
  },
  {
   "cell_type": "code",
   "execution_count": 19,
   "metadata": {},
   "outputs": [
    {
     "name": "stderr",
     "output_type": "stream",
     "text": [
      "Trying to set attribute `.obs` of view, copying.\n"
     ]
    }
   ],
   "source": [
    "for dataset_id, adata in datasets.items():\n",
    "    adata.obs[\"dataset\"] = dataset_id\n",
    "    adata.obs[\"patient\"] = [f\"{dataset}_{patient}\" for dataset, patient in zip(adata.obs[\"dataset\"], adata.obs[\"patient\"])]\n",
    "    datasets[dataset_id] = adata"
   ]
  },
  {
   "cell_type": "markdown",
   "metadata": {},
   "source": [
    "### Remove duplicated genes"
   ]
  },
  {
   "cell_type": "code",
   "execution_count": 20,
   "metadata": {},
   "outputs": [],
   "source": [
    "for dataset_id, dataset in datasets.items():\n",
    "    datasets[dataset_id] = aggregate_duplicate_gene_symbols(dataset)"
   ]
  },
  {
   "cell_type": "markdown",
   "metadata": {},
   "source": [
    "### Validate data"
   ]
  },
  {
   "cell_type": "code",
   "execution_count": 21,
   "metadata": {},
   "outputs": [
    {
     "name": "stderr",
     "output_type": "stream",
     "text": [
      "... storing 'sample' as categorical\n"
     ]
    },
    {
     "name": "stdout",
     "output_type": "stream",
     "text": [
      "Validating Maynard_Bivona_2020_NSCLC\n"
     ]
    },
    {
     "name": "stderr",
     "output_type": "stream",
     "text": [
      "... storing 'patient' as categorical\n",
      "... storing 'dataset' as categorical\n",
      "... storing 'dataset' as categorical\n",
      "... storing 'sample' as categorical\n",
      "... storing 'patient' as categorical\n"
     ]
    },
    {
     "name": "stdout",
     "output_type": "stream",
     "text": [
      "Validating Lambrechts_2018_LUAD_6653\n",
      "Validating Adams_Kaminski_2020_COPD\n"
     ]
    },
    {
     "name": "stderr",
     "output_type": "stream",
     "text": [
      "... storing 'patient' as categorical\n",
      "... storing 'sample' as categorical\n",
      "... storing 'origin' as categorical\n",
      "... storing 'sex' as categorical\n",
      "... storing 'dataset' as categorical\n",
      "... storing 'patient' as categorical\n",
      "... storing 'sample' as categorical\n",
      "... storing 'sex' as categorical\n",
      "... storing 'dataset' as categorical\n"
     ]
    },
    {
     "name": "stdout",
     "output_type": "stream",
     "text": [
      "Validating Goveia_Carmeliet_2020_NSCLC\n"
     ]
    },
    {
     "name": "stderr",
     "output_type": "stream",
     "text": [
      "... storing 'patient' as categorical\n",
      "... storing 'sample' as categorical\n",
      "... storing 'sex' as categorical\n",
      "... storing 'dataset' as categorical\n"
     ]
    },
    {
     "name": "stdout",
     "output_type": "stream",
     "text": [
      "Validating Guo_Zhang_2018_NSCLC\n"
     ]
    },
    {
     "name": "stderr",
     "output_type": "stream",
     "text": [
      "... storing 'dataset' as categorical\n",
      "... storing 'sample' as categorical\n",
      "... storing 'patient' as categorical\n"
     ]
    },
    {
     "name": "stdout",
     "output_type": "stream",
     "text": [
      "Validating Lambrechts_2018_LUAD_6149\n"
     ]
    },
    {
     "name": "stderr",
     "output_type": "stream",
     "text": [
      "... storing 'sample' as categorical\n",
      "... storing 'patient' as categorical\n",
      "... storing 'sex' as categorical\n",
      "... storing 'dataset' as categorical\n"
     ]
    },
    {
     "name": "stdout",
     "output_type": "stream",
     "text": [
      "Validating Laughney_Massague_2020_NSCLC\n"
     ]
    },
    {
     "name": "stderr",
     "output_type": "stream",
     "text": [
      "... storing 'sex' as categorical\n",
      "... storing 'patient' as categorical\n",
      "... storing 'sample' as categorical\n",
      "... storing 'tissue' as categorical\n",
      "... storing 'origin' as categorical\n"
     ]
    },
    {
     "name": "stdout",
     "output_type": "stream",
     "text": [
      "Validating Lukassen_Eils_2020_LUAD\n"
     ]
    },
    {
     "name": "stderr",
     "output_type": "stream",
     "text": [
      "... storing 'condition' as categorical\n",
      "... storing 'dataset' as categorical\n"
     ]
    },
    {
     "name": "stdout",
     "output_type": "stream",
     "text": [
      "Validating Madissoon_Meyer_2020_pulmonary-fibrosis\n"
     ]
    },
    {
     "name": "stderr",
     "output_type": "stream",
     "text": [
      "... storing 'patient' as categorical\n",
      "... storing 'sample' as categorical\n",
      "... storing 'tissue' as categorical\n",
      "... storing 'origin' as categorical\n",
      "... storing 'condition' as categorical\n",
      "... storing 'sex' as categorical\n",
      "... storing 'dataset' as categorical\n",
      "... storing 'sample' as categorical\n",
      "... storing 'patient' as categorical\n",
      "... storing 'sex' as categorical\n",
      "... storing 'dataset' as categorical\n"
     ]
    },
    {
     "name": "stdout",
     "output_type": "stream",
     "text": [
      "Validating Maier_Merad_2020_NSCLC\n",
      "Validating Mayr_Schiller_2020_pulmonary-fibrosis\n"
     ]
    },
    {
     "name": "stderr",
     "output_type": "stream",
     "text": [
      "... storing 'sex' as categorical\n",
      "... storing 'condition' as categorical\n",
      "... storing 'patient' as categorical\n",
      "... storing 'sample' as categorical\n",
      "... storing 'tissue' as categorical\n",
      "... storing 'origin' as categorical\n",
      "... storing 'dataset' as categorical\n",
      "... storing 'patient' as categorical\n",
      "... storing 'sample' as categorical\n",
      "... storing 'dataset' as categorical\n"
     ]
    },
    {
     "name": "stdout",
     "output_type": "stream",
     "text": [
      "Validating Pircher_batch1_NSCLC\n"
     ]
    }
   ],
   "source": [
    "for dataset_id, adata in datasets.items():\n",
    "    print(f\"Validating {dataset_id}\")\n",
    "    sanitize_adata(adata)\n",
    "    validate_adata(adata)"
   ]
  },
  {
   "cell_type": "markdown",
   "metadata": {},
   "source": [
    "## Gene identifier remapping"
   ]
  },
  {
   "cell_type": "code",
   "execution_count": 22,
   "metadata": {},
   "outputs": [
    {
     "data": {
      "application/vnd.jupyter.widget-view+json": {
       "model_id": "d3e9c9862aa347338b0893bc6d81f75d",
       "version_major": 2,
       "version_minor": 0
      },
      "text/plain": [
       "HBox(children=(FloatProgress(value=0.0, max=12.0), HTML(value='')))"
      ]
     },
     "metadata": {},
     "output_type": "display_data"
    },
    {
     "name": "stdout",
     "output_type": "stream",
     "text": [
      "querying 1-1000...querying 1-1000...done.\n",
      "done.\n",
      "querying 1001-2000...querying 1001-2000...done.\n",
      "done.\n",
      "querying 2001-3000...querying 2001-3000...done.\n",
      "querying 3001-4000...done.\n",
      "querying 3001-4000...done.\n",
      "querying 4001-5000...done.\n",
      "querying 4001-5000...done.\n",
      "querying 1-1000...querying 1-1000...querying 5001-6000...done.\n",
      "querying 1-1000...querying 1-1000...querying 5001-6000...done.\n",
      "done.\n",
      "querying 1-1000...done.\n",
      "querying 1001-2000...querying 1001-2000...querying 6001-7000...done.\n",
      "done.\n",
      "done.\n",
      "querying 1001-2000...querying 1001-2000...\n",
      "querying 6001-7000...done.done.\n",
      "done.\n",
      "querying 1-1000...querying 2001-3000...querying 1001-2000...querying 7001-8000...done.\n",
      "done.\n",
      "querying 1-1000...done.\n",
      "querying 1-1000...querying 2001-3000...querying 2001-3000...querying 2001-3000...done.\n",
      "querying 1001-2000...done.\n",
      "done.\n",
      "done.\n",
      "querying 3001-4000...querying 7001-8000...querying 8001-9000...done.\n",
      "done.\n",
      "done.\n",
      "done.\n",
      "querying 1001-2000...done.\n",
      "querying 3001-4000...querying 1001-2000...querying 3001-4000...querying 3001-4000...done.\n",
      "done.\n",
      "done.\n",
      "done.\n",
      "querying 2001-3000...querying 8001-9000...done.\n",
      "querying 2001-3000...querying 4001-5000...querying 9001-10000...done.\n",
      "done.\n",
      "done.\n",
      "done.\n",
      "querying 2001-3000...done.\n",
      "querying 4001-5000...querying 2001-3000...querying 1-1000...querying 4001-5000...querying 4001-5000...done.\n",
      "done.\n",
      "done.\n",
      "querying 9001-10000...querying 3001-4000...querying 5001-6000...querying 1-1000...done.\n",
      "done.\n",
      "done.\n",
      "querying 3001-4000...querying 5001-6000...done.\n",
      "done.\n",
      "querying 3001-4000...done.\n",
      "done.\n",
      "querying 1001-2000...querying 5001-6000...done.\n",
      "done.\n",
      "done.\n",
      "querying 5001-6000...querying 6001-7000...querying 10001-11000...querying 10001-11000...querying 3001-4000...done.\n",
      "querying 1001-2000...done.\n",
      "done.\n",
      "done.querying 6001-7000...\n",
      "querying 4001-5000...done.\n",
      "querying 4001-5000...querying 4001-5000...done.\n",
      "done.\n",
      "done.\n",
      "done.\n",
      "done.\n",
      "querying 11001-12000...done.\n",
      "querying 2001-3000...querying 11001-12000...querying 7001-8000...querying 4001-5000...querying 2001-3000...done.\n",
      "done.\n",
      "querying 5001-6000...done.\n",
      "done.\n",
      "querying 5001-6000...querying 5001-6000...querying 6001-7000...done.\n",
      "querying 6001-7000...done.\n",
      "done.\n",
      "done.\n",
      "querying 8001-9000...querying 12001-13000...done.\n",
      "done.\n",
      "done.\n",
      "querying 6001-7000...querying 12001-13000...querying 3001-4000...querying 7001-8000...done.\n",
      "querying 3001-4000...done.\n",
      "done.\n",
      "done.\n",
      "done.\n",
      "querying 7001-8000...querying 6001-7000...querying 5001-6000...querying 9001-10000...done.\n",
      "querying 13001-14000...done.\n",
      "done.\n",
      "querying 7001-8000...querying 6001-7000...done.\n",
      "done.\n",
      "querying 4001-5000...querying 7001-8000...done.\n",
      "done.\n",
      "done.\n",
      "querying 6001-7000...querying 4001-5000...querying 8001-9000...done.\n",
      "done.\n",
      "querying 8001-9000...done.\n",
      "querying 7001-8000...querying 14001-15000...done.\n",
      "done.\n",
      "done.\n",
      "done.\n",
      "done.\n",
      "done.\n",
      "querying 10001-11000...querying 13001-14000...querying 5001-6000...querying 8001-9000...querying 8001-9000...querying 7001-8000...done.\n",
      "done.\n",
      "done.\n",
      "querying 8001-9000...querying 7001-8000...querying 9001-10000...done.\n",
      "done.\n",
      "querying 14001-15000...querying 9001-10000...done.\n",
      "done.\n",
      "querying 9001-10000...querying 6001-7000...done.\n",
      "done.\n",
      "done.\n",
      "done.\n",
      "querying 11001-12000...querying 5001-6000...querying 8001-9000...querying 9001-10000...done.\n",
      "done.\n",
      "querying 15001-16000...done.\n",
      "querying 15001-16000...querying 8001-9000...done.\n",
      "done.\n",
      "done.\n",
      "done.\n",
      "done.\n",
      "querying 6001-7000...querying 9001-10000...querying 10001-11000...querying 12001-13000...done.\n",
      "querying 9001-10000...done.\n",
      "done.\n",
      "querying 10001-11000...querying 10001-11000...done.\n",
      "done.\n",
      "querying 16001-17000...querying 16001-17000...querying 7001-8000...done.\n",
      "querying 10001-11000...done.\n",
      "done.\n",
      "done.\n",
      "done.\n",
      "querying 11001-12000...querying 13001-14000...done.\n",
      "querying 10001-11000...done.\n",
      "querying 10001-11000...querying 7001-8000...done.\n",
      "querying 11001-12000...done.\n",
      "querying 17001-18000...done.\n",
      "querying 8001-9000...done.\n",
      "done.\n",
      "querying 9001-10000...querying 11001-12000...querying 11001-12000...done.\n",
      "done.\n",
      "querying 14001-15000...done.\n",
      "done.\n",
      "querying 12001-13000...done.\n",
      "querying 11001-12000...querying 8001-9000...querying 11001-12000...done.\n",
      "done.\n",
      "done.\n",
      "querying 10001-11000...querying 12001-13000...done.\n",
      "done.\n",
      "querying 9001-10000...querying 12001-13000...done.\n",
      "querying 17001-18000...querying 13001-14000...done.\n",
      "done.\n",
      "querying 12001-13000...querying 9001-10000...done.\n",
      "done.\n",
      "querying 13001-14000...done.\n",
      "done.\n",
      "querying 11001-12000...done.\n",
      "done.\n",
      "querying 18001-19000...querying 10001-11000...done.\n",
      "querying 14001-15000...done.\n",
      "querying 18001-19000...querying 12001-13000...done.\n",
      "querying 13001-14000...querying 10001-11000...done.\n",
      "querying 15001-16000...done.\n",
      "done.querying 14001-15000...\n",
      "done.\n",
      "querying 12001-13000...done.\n",
      "querying 12001-12604...done.\n",
      "done.\n",
      "querying 19001-20000...done.\n",
      "done.\n",
      "done.\n",
      "querying 11001-12000...querying 13001-14000...querying 19001-20000...querying 15001-16000...done.\n",
      "querying 13001-14000...done.\n",
      "Finished.\n",
      "2954 input query terms found dup hits:\n",
      "\t[('SCYL3', 2), ('CYP51A1', 2), ('RAD52', 4), ('LAP3', 2), ('CD99', 3), ('M6PR', 2), ('ALS2', 2), ('C\n",
      "321 input query terms found no hit:\n",
      "\t['AC004381.6', 'AC013461.1', 'RP5-862P8.2', 'AL356053.1', 'RP11-382A20.3', 'CTB-50L17.10', 'CTD-2369\n",
      "Pass \"returnall=True\" to return complete lists of duplicate or missing query terms.\n",
      "querying 16001-17000...done.\n",
      "querying 13001-14000...done.\n",
      "querying 14001-15000...done.\n",
      "done.\n",
      "done.\n",
      "querying 12001-13000...done.\n",
      "querying 14001-15000...querying 11001-12000...querying 17001-18000...done.\n",
      "querying 15001-16000...done.\n",
      "done.\n",
      "done.\n",
      "querying 15001-16000...querying 14001-15000...querying 20001-21000...done.\n",
      "done.\n",
      "done.\n",
      "done.\n",
      "done.\n",
      "querying 20001-21000...querying 13001-14000...querying 12001-13000...querying 16001-17000...querying 15001-16000...done.\n",
      "querying 16001-17000...done.\n",
      "done.\n",
      "done.\n",
      "querying 21001-22000...querying 16001-17000...querying 14001-15000...done.\n",
      "done.\n",
      "querying 21001-22000...done.\n",
      "done.\n",
      "done.\n",
      "querying 16001-17000...done.\n",
      "done.\n",
      "querying 18001-19000...done.\n",
      "querying 17001-18000...querying 13001-14000...done.\n",
      "done.\n",
      "querying 15001-16000...querying 17001-18000...querying 14001-15000...querying 17001-18000...querying 22001-23000...done.\n",
      "done.\n",
      "querying 15001-16000...querying 22001-23000...done.\n",
      "done.\n",
      "querying 19001-20000...querying 18001-19000...done.\n",
      "querying 16001-17000...done.\n",
      "done.\n",
      "done.\n",
      "done.\n",
      "done.\n",
      "querying 16001-17000...querying 17001-18000...done.\n",
      "querying 15001-16000...querying 23001-24000...querying 23001-24000...done.\n",
      "done.\n",
      "querying 18001-19000...querying 20001-21000...done.\n",
      "querying 14001-15000...done.\n",
      "querying 18001-18450...querying 17001-18000...done.\n",
      "done.\n",
      "done.\n",
      "querying 17001-18000...done.\n",
      "done.\n",
      "querying 19001-20000...Finished.\n",
      "3970 input query terms found dup hits:\n",
      "\t[('A1BG', 2), ('A2M', 5), ('A2ML1', 5), ('AAK1', 2), ('AARSD1', 3), ('ABCA9', 2), ('ABCB10', 10), ('\n",
      "2031 input query terms found no hit:\n",
      "\t['ABC12-49244600F4.4', 'AC000403.4', 'AC002076.10', 'AC002116.7', 'AC002117.1', 'AC002310.12', 'AC00\n",
      "Pass \"returnall=True\" to return complete lists of duplicate or missing query terms.\n",
      "querying 24001-24548...done.\n",
      "done.\n",
      "querying 16001-17000...done.\n",
      "done.\n",
      "querying 21001-22000...querying 15001-16000...querying 18001-19000...querying 19001-20000...done.\n",
      "querying 18001-19000...done.\n",
      "done.\n",
      "done.\n",
      "done.\n",
      "querying 20001-21000...Finished.\n",
      "4665 input query terms found dup hits:\n",
      "\t[('TTLL10', 2), ('DVL1', 2), ('MRPL20', 4), ('SSU72', 10), ('SLC35E2', 2), ('PRKCZ', 2), ('SKI', 5),\n",
      "5246 input query terms found no hit:\n",
      "\t['RP11-34P13.7', 'FO538757.2', 'RP4-669L17.2', 'RP4-669L17.10', 'RP5-857K21.4', 'RP11-206L10.9', 'RP\n",
      "Pass \"returnall=True\" to return complete lists of duplicate or missing query terms.\n",
      "querying 24001-25000...done.\n",
      "querying 18001-19000...querying 22001-23000...\n",
      "done.done.\n",
      "querying 20001-21000...done.\n",
      "querying 19001-19681...querying 17001-18000...done.\n",
      "done.\n",
      "done.\n",
      "querying 21001-22000...querying 25001-26000...done.\n",
      "querying 16001-17000...done.\n",
      "querying 23001-24000...done.\n",
      "done.\n",
      "done.\n",
      "done.\n",
      "querying 21001-22000...querying 19001-20000...querying 19001-20000...querying 18001-19000...Finished.\n",
      "3998 input query terms found dup hits:\n",
      "\t[('TTLL10', 2), ('DVL1', 2), ('MRPL20', 4), ('SSU72', 10), ('SLC35E2', 2), ('PRKCZ', 2), ('SKI', 5),\n",
      "3064 input query terms found no hit:\n",
      "\t['RP11-34P13.7', 'FO538757.2', 'RP4-669L17.10', 'RP5-857K21.4', 'RP11-206L10.9', 'RP11-54O7.1', 'RP1\n",
      "Pass \"returnall=True\" to return complete lists of duplicate or missing query terms.\n",
      "done.\n",
      "querying 22001-23000...done.\n",
      "querying 24001-25000...done.\n",
      "done.\n",
      "done.\n",
      "done.\n",
      "querying 20001-21000...done.\n",
      "done.\n",
      "querying 20001-21000...querying 19001-20000...done.\n",
      "querying 26001-27000...querying 17001-18000...querying 22001-23000...done.\n",
      "querying 23001-24000...done.\n",
      "querying 25001-26000...querying 21001-22000...done.\n",
      "done.\n",
      "querying 21001-22000...querying 27001-28000...done.\n",
      "done.\n",
      "done.\n",
      "done.\n",
      "querying 26001-27000...querying 23001-24000...querying 20001-21000...querying 22001-23000...done.\n",
      "done.\n",
      "done.\n",
      "querying 28001-29000...querying 18001-19000...done.\n",
      "querying 24001-25000...done.\n",
      "querying 22001-23000...querying 27001-28000...done.\n",
      "done.\n",
      "querying 24001-25000...querying 21001-22000...done.\n",
      "done.\n",
      "querying 29001-30000...querying 19001-20000...done.\n",
      "done.\n",
      "done.\n",
      "querying 23001-24000...querying 25001-26000...querying 28001-29000...done.\n",
      "done.\n",
      "done.\n",
      "querying 22001-23000...done.\n",
      "querying 23001-24000...done.\n",
      "querying 25001-26000...querying 30001-31000...querying 20001-21000...done.\n",
      "done.\n",
      "querying 24001-25000...querying 29001-30000...done.\n",
      "done.\n",
      "done.\n",
      "done.\n",
      "querying 31001-32000...querying 26001-27000...querying 24001-25000...querying 26001-27000...done.\n",
      "done.\n",
      "querying 25001-25204...done.\n",
      "querying 23001-24000...done.\n",
      "querying 21001-22000...done.\n",
      "done.\n",
      "done.\n",
      "querying 32001-33000...done.\n",
      "done.\n",
      "querying 27001-28000...Finished.\n",
      "4706 input query terms found dup hits:\n",
      "\t[('TTLL10', 2), ('DVL1', 2), ('MRPL20', 4), ('SSU72', 10), ('SLC35E2', 2), ('PRKCZ', 2), ('SKI', 5),\n",
      "5698 input query terms found no hit:\n",
      "\t['RP11-34P13.7', 'RP11-34P13.8', 'FO538757.3', 'FO538757.2', 'RP4-669L17.2', 'RP4-669L17.10', 'RP5-8\n",
      "Pass \"returnall=True\" to return complete lists of duplicate or missing query terms.\n",
      "querying 25001-25006...done.\n",
      "querying 27001-28000...done.\n",
      "querying 30001-31000...querying 24001-25000...Finished.\n",
      "4705 input query terms found dup hits:\n",
      "\t[('TTLL10', 2), ('DVL1', 2), ('MRPL20', 4), ('SSU72', 10), ('SLC35E2', 2), ('PRKCZ', 2), ('SKI', 5),\n",
      "5517 input query terms found no hit:\n",
      "\t['RP11-34P13.7', 'RP11-34P13.9', 'FO538757.2', 'RP4-669L17.10', 'RP5-857K21.4', 'RP5-857K21.2', 'RP1\n",
      "Pass \"returnall=True\" to return complete lists of duplicate or missing query terms.\n",
      "done.\n",
      "querying 28001-29000...done.\n",
      "done.\n",
      "done.\n",
      "done.\n",
      "querying 22001-23000...done.\n",
      "querying 28001-29000...querying 33001-34000...querying 31001-32000...querying 25001-26000...done.\n",
      "querying 29001-30000...done.\n",
      "done.\n",
      "done.\n",
      "done.\n",
      "done.\n",
      "done.\n",
      "querying 26001-26636...querying 23001-24000...querying 34001-35000...querying 29001-30000...querying 30001-31000...querying 32001-33000...done.\n",
      "Finished.\n",
      "5308 input query terms found dup hits:\n",
      "\t[('A1BG', 2), ('A2M', 5), ('A2ML1', 5), ('A2ML1-AS1', 2), ('AADACL2', 4), ('AADACL2-AS1', 3), ('AAK1\n",
      "887 input query terms found no hit:\n",
      "\t['AC000036.1', 'AC002076.1', 'AC002116.2', 'AC002310.1', 'AC002378.1', 'AC002429.2', 'AC002454.1', '\n",
      "Pass \"returnall=True\" to return complete lists of duplicate or missing query terms.\n",
      "done.\n",
      "querying 24001-25000...done.\n",
      "done.\n",
      "done.\n",
      "done.\n",
      "querying 30001-31000...querying 33001-34000...querying 31001-32000...querying 35001-36000...done.\n",
      "querying 25001-26000...done.\n",
      "done.\n",
      "querying 31001-32000...done.\n",
      "done.\n",
      "done.\n",
      "querying 34001-35000...querying 32001-33000...querying 36001-37000...querying 26001-27000...done.\n",
      "querying 32001-32738...done.\n",
      "querying 35001-36000...done.\n",
      "done.\n",
      "querying 33001-34000...done.\n",
      "done.\n",
      "querying 27001-28000...Finished.\n",
      "4815 input query terms found dup hits:\n",
      "\t[('OR4F5', 2), ('TTLL10', 2), ('DVL1', 2), ('MRPL20', 4), ('SSU72', 10), ('SLC35E2', 2), ('PRKCZ', 2\n",
      "10801 input query terms found no hit:\n",
      "\t['RP11-34P13.7', 'RP11-34P13.8', 'RP11-34P13.14', 'RP11-34P13.9', 'RP4-669L17.10', 'RP4-669L17.2', '\n",
      "Pass \"returnall=True\" to return complete lists of duplicate or missing query terms.\n",
      "done.\n",
      "querying 37001-38000...done.\n",
      "querying 36001-37000...done.\n",
      "querying 34001-35000...done.\n",
      "querying 28001-29000...done.\n",
      "querying 38001-39000...querying 37001-38000...done.\n",
      "\n",
      "done.querying 35001-36000...done.\n",
      "done.\n",
      "querying 29001-30000...querying 39001-40000...querying 38001-39000...done.\n",
      "querying 36001-37000...done.\n",
      "done.\n",
      "done.\n",
      "querying 30001-31000...querying 40001-41000...done.\n",
      "querying 39001-40000...querying 37001-38000...done.\n",
      "done.\n",
      "done.\n",
      "done.\n",
      "querying 41001-42000...querying 31001-32000...querying 40001-41000...querying 38001-39000...done.\n",
      "done.\n",
      "done.\n",
      "done.\n",
      "querying 42001-43000...querying 32001-33000...querying 41001-42000...querying 39001-40000...done.\n",
      "done.\n",
      "done.\n",
      "done.\n",
      "querying 43001-44000...querying 42001-43000...querying 40001-41000...querying 33001-34000...done.\n",
      "done.\n",
      "querying 44001-45000...done.\n",
      "done.\n",
      "querying 43001-44000...querying 34001-35000...querying 41001-42000...done.\n",
      "done.\n",
      "querying 45001-46000...done.\n",
      "querying 44001-45000...done.\n",
      "querying 42001-42665...querying 35001-36000...done.\n",
      "done.\n",
      "done.\n",
      "querying 46001-47000...done.\n",
      "querying 45001-46000...Finished.\n",
      "11696 input query terms found dup hits:\n",
      "\t[('SCYL3', 2), ('SEMA3F', 2), ('CFTR', 10), ('CYP51A1', 2), ('RAD52', 4), ('MYH16', 2), ('LAP3', 2),\n",
      "13832 input query terms found no hit:\n",
      "\t['ENSG00000036549', 'ENSG00000100101', 'ENSG00000111780', 'ENSG00000111788', 'ENSG00000115934', 'ENS\n",
      "Pass \"returnall=True\" to return complete lists of duplicate or missing query terms.\n",
      "querying 36001-37000...done.\n",
      "done.\n",
      "querying 47001-48000...done.\n",
      "querying 46001-47000...querying 37001-38000...done.\n",
      "done.\n",
      "querying 48001-49000...done.\n",
      "querying 47001-48000...querying 38001-38615...done.\n",
      "done.\n",
      "querying 49001-50000...done.\n",
      "Finished.\n",
      "7808 input query terms found dup hits:\n",
      "\t[('TTLL10', 2), ('DVL1', 2), ('MRPL20', 4), ('SSU72', 10), ('SLC35E2', 2), ('PRKCZ', 2), ('SKI', 5),\n",
      "9682 input query terms found no hit:\n",
      "\t['RP11-34P13.3', 'RP11-34P13.7', 'RP11-34P13.8', 'RP11-34P13.14', 'FO538757.3', 'FO538757.2', 'RP5-8\n",
      "Pass \"returnall=True\" to return complete lists of duplicate or missing query terms.\n",
      "querying 48001-48353...done.\n",
      "done.\n",
      "querying 50001-51000...Finished.\n",
      "13616 input query terms found dup hits:\n",
      "\t[('PARTICL', 2), ('H3C2', 10), ('CCDC15-DT', 2), ('LINC02717', 2), ('FAM245B', 2), ('LINC02838', 2),\n",
      "1947 input query terms found no hit:\n",
      "\t['AL645933.5', 'AL117334.2', 'AC016394.4', 'AC080128.3', 'AC108479.4', 'AP000961.1', 'AC104211.4', '\n",
      "Pass \"returnall=True\" to return complete lists of duplicate or missing query terms.\n",
      "done.\n",
      "querying 51001-52000...done.\n",
      "querying 52001-53000...done.\n",
      "querying 53001-54000...done.\n",
      "querying 54001-55000...done.\n",
      "querying 55001-55556...done.\n",
      "Finished.\n",
      "16227 input query terms found dup hits:\n",
      "\t[('PARTICL', 2), ('H3C2', 10), ('CCDC15-DT', 2), ('LINC02717', 2), ('FAM245B', 2), ('LINC02838', 2),\n",
      "2284 input query terms found no hit:\n",
      "\t['AL645933.5', 'AL117334.2', 'AC016394.4', 'AC080128.3', 'AC108479.4', 'AP000961.1', 'AC104211.4', '\n",
      "Pass \"returnall=True\" to return complete lists of duplicate or missing query terms.\n",
      "\n"
     ]
    }
   ],
   "source": [
    "datasets_remapped = process_map(remap_gene_symbols, datasets.values(), max_workers=32)\n",
    "for dataset_id, dataset in zip(datasets.keys(), datasets_remapped):\n",
    "    datasets[dataset_id] = dataset"
   ]
  },
  {
   "cell_type": "code",
   "execution_count": 23,
   "metadata": {},
   "outputs": [
    {
     "name": "stdout",
     "output_type": "stream",
     "text": [
      "Maynard_Bivona_2020_NSCLC\n"
     ]
    },
    {
     "name": "stderr",
     "output_type": "stream",
     "text": [
      "100%|██████████| 21/21 [00:00<00:00, 237.10it/s]\n"
     ]
    },
    {
     "name": "stdout",
     "output_type": "stream",
     "text": [
      "Lambrechts_2018_LUAD_6653\n"
     ]
    },
    {
     "name": "stderr",
     "output_type": "stream",
     "text": [
      "100%|██████████| 41/41 [00:00<00:00, 476.75it/s]\n"
     ]
    },
    {
     "name": "stdout",
     "output_type": "stream",
     "text": [
      "Adams_Kaminski_2020_COPD\n"
     ]
    },
    {
     "name": "stderr",
     "output_type": "stream",
     "text": [
      "100%|██████████| 23/23 [00:00<00:00, 277.77it/s]\n"
     ]
    },
    {
     "name": "stdout",
     "output_type": "stream",
     "text": [
      "Goveia_Carmeliet_2020_NSCLC\n"
     ]
    },
    {
     "name": "stderr",
     "output_type": "stream",
     "text": [
      "100%|██████████| 23/23 [00:00<00:00, 544.04it/s]\n"
     ]
    },
    {
     "name": "stdout",
     "output_type": "stream",
     "text": [
      "Guo_Zhang_2018_NSCLC\n"
     ]
    },
    {
     "name": "stderr",
     "output_type": "stream",
     "text": [
      "100%|██████████| 18/18 [00:00<00:00, 237.46it/s]\n"
     ]
    },
    {
     "name": "stdout",
     "output_type": "stream",
     "text": [
      "Lambrechts_2018_LUAD_6149\n"
     ]
    },
    {
     "name": "stderr",
     "output_type": "stream",
     "text": [
      "100%|██████████| 44/44 [00:00<00:00, 476.31it/s]\n"
     ]
    },
    {
     "name": "stdout",
     "output_type": "stream",
     "text": [
      "Laughney_Massague_2020_NSCLC\n"
     ]
    },
    {
     "name": "stderr",
     "output_type": "stream",
     "text": [
      "100%|██████████| 8/8 [00:00<00:00, 574.61it/s]\n"
     ]
    },
    {
     "name": "stdout",
     "output_type": "stream",
     "text": [
      "Lukassen_Eils_2020_LUAD\n"
     ]
    },
    {
     "name": "stderr",
     "output_type": "stream",
     "text": [
      "100%|██████████| 107/107 [00:00<00:00, 385.91it/s]\n"
     ]
    },
    {
     "name": "stdout",
     "output_type": "stream",
     "text": [
      "Madissoon_Meyer_2020_pulmonary-fibrosis\n"
     ]
    },
    {
     "name": "stderr",
     "output_type": "stream",
     "text": [
      "100%|██████████| 44/44 [00:00<00:00, 465.57it/s]\n"
     ]
    },
    {
     "name": "stdout",
     "output_type": "stream",
     "text": [
      "Maier_Merad_2020_NSCLC\n"
     ]
    },
    {
     "name": "stderr",
     "output_type": "stream",
     "text": [
      "100%|██████████| 26/26 [00:00<00:00, 567.37it/s]\n"
     ]
    },
    {
     "name": "stdout",
     "output_type": "stream",
     "text": [
      "Mayr_Schiller_2020_pulmonary-fibrosis\n"
     ]
    },
    {
     "name": "stderr",
     "output_type": "stream",
     "text": [
      "100%|██████████| 881/881 [00:02<00:00, 334.90it/s]\n"
     ]
    },
    {
     "name": "stdout",
     "output_type": "stream",
     "text": [
      "Pircher_batch1_NSCLC\n"
     ]
    },
    {
     "name": "stderr",
     "output_type": "stream",
     "text": [
      "100%|██████████| 16/16 [00:00<00:00, 444.12it/s]\n"
     ]
    }
   ],
   "source": [
    "for dataset_id, dataset in datasets.items():\n",
    "    print(dataset_id)\n",
    "    datasets[dataset_id] = aggregate_duplicate_gene_symbols(dataset)"
   ]
  },
  {
   "cell_type": "markdown",
   "metadata": {},
   "source": [
    "## add cell type annotation"
   ]
  },
  {
   "cell_type": "code",
   "execution_count": 24,
   "metadata": {},
   "outputs": [],
   "source": [
    "for dataset in datasets.values():\n",
    "    dataset.obs[\"cell_type\"] = \"unknown\""
   ]
  },
  {
   "cell_type": "code",
   "execution_count": 25,
   "metadata": {},
   "outputs": [],
   "source": [
    "datasets[\"Lambrechts_2018_LUAD_6653\"].obs.loc[\n",
    "    annotated_datasets[\"Lambrechts_2018_LUAD_6653\"].obs_names, \"cell_type\"\n",
    "] = annotated_datasets[\"Lambrechts_2018_LUAD_6653\"].obs[\"cell_type\"]"
   ]
  },
  {
   "cell_type": "code",
   "execution_count": 26,
   "metadata": {},
   "outputs": [],
   "source": [
    "datasets[\"Maynard_Bivona_2020_NSCLC\"].obs.loc[\n",
    "    annotated_datasets[\"Maynard_Bivona_2020_NSCLC\"].obs_names, \"cell_type\"\n",
    "] = annotated_datasets[\"Maynard_Bivona_2020_NSCLC\"].obs[\"cell_type\"]"
   ]
  },
  {
   "cell_type": "markdown",
   "metadata": {},
   "source": [
    "## Export all"
   ]
  },
  {
   "cell_type": "code",
   "execution_count": 54,
   "metadata": {},
   "outputs": [],
   "source": [
    "merged_all = merge_datasets(datasets.values(), symbol_in_n_datasets=9)"
   ]
  },
  {
   "cell_type": "code",
   "execution_count": 55,
   "metadata": {},
   "outputs": [
    {
     "data": {
      "text/plain": [
       "(551334, 18095)"
      ]
     },
     "execution_count": 55,
     "metadata": {},
     "output_type": "execute_result"
    }
   ],
   "source": [
    "merged_all.shape"
   ]
  },
  {
   "cell_type": "code",
   "execution_count": 56,
   "metadata": {},
   "outputs": [
    {
     "name": "stderr",
     "output_type": "stream",
     "text": [
      "... storing 'sample' as categorical\n",
      "... storing 'patient' as categorical\n",
      "... storing 'tissue' as categorical\n",
      "... storing 'origin' as categorical\n",
      "... storing 'condition' as categorical\n",
      "... storing 'dataset' as categorical\n",
      "... storing 'sex' as categorical\n",
      "... storing 'cell_type' as categorical\n",
      "... storing 'batch' as categorical\n"
     ]
    }
   ],
   "source": [
    "merged_all.write_h5ad(\"../../data/50_integrate_scrnaseq_data/51_merge_all/merged_all.h5ad\")"
   ]
  },
  {
   "cell_type": "markdown",
   "metadata": {},
   "source": [
    "## Export for NSCLC heterogeneity\n",
    " * only tumor samples (no controls, no metastases)\n",
    " * all NSCLC subtypes"
   ]
  },
  {
   "cell_type": "code",
   "execution_count": 64,
   "metadata": {},
   "outputs": [],
   "source": [
    "datasets_nsclc_heterogeneity = dict()\n",
    "for dataset_id, dataset in datasets.items():\n",
    "    if \"tumor_primary\" in dataset.obs[\"origin\"].values:\n",
    "        datasets_nsclc_heterogeneity[dataset_id] = dataset[dataset.obs[\"origin\"] == \"tumor_primary\", :].copy()\n",
    "del datasets_nsclc_heterogeneity[\"Pircher_batch1_NSCLC\"]"
   ]
  },
  {
   "cell_type": "code",
   "execution_count": 65,
   "metadata": {},
   "outputs": [],
   "source": [
    "merged_nsclc_heterogeneity = merge_datasets(datasets_nsclc_heterogeneity.values(), symbol_in_n_datasets=5)"
   ]
  },
  {
   "cell_type": "code",
   "execution_count": 66,
   "metadata": {},
   "outputs": [
    {
     "data": {
      "text/plain": [
       "(86061, 17567)"
      ]
     },
     "execution_count": 66,
     "metadata": {},
     "output_type": "execute_result"
    }
   ],
   "source": [
    "merged_nsclc_heterogeneity.shape"
   ]
  },
  {
   "cell_type": "code",
   "execution_count": 67,
   "metadata": {},
   "outputs": [
    {
     "name": "stderr",
     "output_type": "stream",
     "text": [
      "... storing 'sample' as categorical\n",
      "... storing 'patient' as categorical\n",
      "... storing 'condition' as categorical\n",
      "... storing 'dataset' as categorical\n",
      "... storing 'sex' as categorical\n",
      "... storing 'cell_type' as categorical\n",
      "... storing 'batch' as categorical\n"
     ]
    }
   ],
   "source": [
    "merged_nsclc_heterogeneity.write_h5ad(\"../../data/50_integrate_scrnaseq_data/51_merge_all/merged_nsclc_heterogeneity.h5ad\")"
   ]
  }
 ],
 "metadata": {
  "kernelspec": {
   "display_name": "Python [conda env:.conda-pircher-sc-integrate2]",
   "language": "python",
   "name": "conda-env-.conda-pircher-sc-integrate2-py"
  },
  "language_info": {
   "codemirror_mode": {
    "name": "ipython",
    "version": 3
   },
   "file_extension": ".py",
   "mimetype": "text/x-python",
   "name": "python",
   "nbconvert_exporter": "python",
   "pygments_lexer": "ipython3",
   "version": "3.8.6"
  }
 },
 "nbformat": 4,
 "nbformat_minor": 4
}
