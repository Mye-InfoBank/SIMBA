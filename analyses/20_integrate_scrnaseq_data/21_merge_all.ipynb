{
 "cells": [
  {
   "cell_type": "code",
   "execution_count": 1,
   "metadata": {},
   "outputs": [],
   "source": [
    "%load_ext autoreload\n",
    "%autoreload 2\n",
    "\n",
    "from nxfvars import nxfvars\n",
    "import scanpy as sc\n",
    "import numpy as np\n",
    "import itertools\n",
    "from tqdm import trange, tqdm\n",
    "import scipy.sparse\n",
    "import numpy.testing as npt\n",
    "from scanpy_helpers.integration import (\n",
    "    normalize_by_gene_length,\n",
    "    sanitize_adata,\n",
    "    validate_adata,\n",
    "    add_doublet_annotation,\n",
    "    undo_log_norm,\n",
    "    remap_gene_symbols,\n",
    "    drop_duplicated_genes,\n",
    "    aggregate_duplicate_gene_symbols,\n",
    "    merge_datasets,\n",
    "    MANDATORY_COLS,\n",
    ")\n",
    "from threadpoolctl import threadpool_limits\n",
    "from tqdm.contrib.concurrent import process_map\n",
    "import mygene\n",
    "from operator import and_\n",
    "from functools import reduce\n",
    "import pandas as pd\n",
    "import anndata\n",
    "import re\n",
    "import os"
   ]
  },
  {
   "cell_type": "code",
   "execution_count": 2,
   "metadata": {},
   "outputs": [],
   "source": [
    "out_dir = nxfvars.get(\"artifact_dir\", \"/local/scratch/sturm/\")"
   ]
  },
  {
   "cell_type": "code",
   "execution_count": 3,
   "metadata": {},
   "outputs": [
    {
     "data": {
      "text/plain": [
       "<threadpoolctl.threadpool_limits at 0x7f7ac00ea9a0>"
      ]
     },
     "execution_count": 3,
     "metadata": {},
     "output_type": "execute_result"
    }
   ],
   "source": [
    "threadpool_limits(int(nxfvars.get(\"cpus\", \"8\")))"
   ]
  },
  {
   "cell_type": "code",
   "execution_count": 4,
   "metadata": {},
   "outputs": [],
   "source": [
    "sc.set_figure_params(figsize=(5, 5))"
   ]
  },
  {
   "cell_type": "code",
   "execution_count": 5,
   "metadata": {},
   "outputs": [],
   "source": [
    "dataset_table = pd.read_csv(\n",
    "    nxfvars.get(\"samplesheet\", \"../../tables/samplesheet_scrnaseq_preprocessing.csv\")\n",
    ")\n",
    "dataset_path_annotated = nxfvars.get(\n",
    "    \"dataset_path_annotated\",\n",
    "    \"../../data/20_integrate_scrnaseq_data/11_seed_annotations/artifacts/\",\n",
    ")\n",
    "dataset_path = nxfvars.get(\n",
    "    \"dataset_path\", \"../../data/20_integrate_scrnaseq_data/02_qc_and_filtering/\"\n",
    ")"
   ]
  },
  {
   "cell_type": "code",
   "execution_count": 6,
   "metadata": {},
   "outputs": [
    {
     "data": {
      "text/html": [
       "<div>\n",
       "<style scoped>\n",
       "    .dataframe tbody tr th:only-of-type {\n",
       "        vertical-align: middle;\n",
       "    }\n",
       "\n",
       "    .dataframe tbody tr th {\n",
       "        vertical-align: top;\n",
       "    }\n",
       "\n",
       "    .dataframe thead th {\n",
       "        text-align: right;\n",
       "    }\n",
       "</style>\n",
       "<table border=\"1\" class=\"dataframe\">\n",
       "  <thead>\n",
       "    <tr style=\"text-align: right;\">\n",
       "      <th></th>\n",
       "      <th>id</th>\n",
       "      <th>input_adata</th>\n",
       "      <th>min_counts</th>\n",
       "      <th>max_counts</th>\n",
       "      <th>min_genes</th>\n",
       "      <th>max_genes</th>\n",
       "      <th>max_pct_mito</th>\n",
       "      <th>batch_key</th>\n",
       "      <th>run_solo</th>\n",
       "    </tr>\n",
       "  </thead>\n",
       "  <tbody>\n",
       "    <tr>\n",
       "      <th>0</th>\n",
       "      <td>Adams_Kaminski_2020_COPD</td>\n",
       "      <td>data/10_public_datasets/Adams_Kaminski_2020_CO...</td>\n",
       "      <td>1000</td>\n",
       "      <td>35000</td>\n",
       "      <td>500</td>\n",
       "      <td>10000</td>\n",
       "      <td>20</td>\n",
       "      <td>sample</td>\n",
       "      <td>True</td>\n",
       "    </tr>\n",
       "    <tr>\n",
       "      <th>1</th>\n",
       "      <td>Chen_Zhang_2020_NSCLC</td>\n",
       "      <td>data/10_public_datasets/Chen_Zhang_2020_NSCLC/...</td>\n",
       "      <td>600</td>\n",
       "      <td>30000</td>\n",
       "      <td>250</td>\n",
       "      <td>10000</td>\n",
       "      <td>20</td>\n",
       "      <td>sample</td>\n",
       "      <td>True</td>\n",
       "    </tr>\n",
       "    <tr>\n",
       "      <th>2</th>\n",
       "      <td>Goveia_Carmeliet_2020_NSCLC</td>\n",
       "      <td>data/10_public_datasets/Goveia_Carmeliet_2020_...</td>\n",
       "      <td>600</td>\n",
       "      <td>30000</td>\n",
       "      <td>250</td>\n",
       "      <td>10000</td>\n",
       "      <td>20</td>\n",
       "      <td>sample</td>\n",
       "      <td>True</td>\n",
       "    </tr>\n",
       "    <tr>\n",
       "      <th>3</th>\n",
       "      <td>Guo_Zhang_2018_NSCLC</td>\n",
       "      <td>data/10_public_datasets/Guo_Zhang_2018_NSCLC/h...</td>\n",
       "      <td>20000</td>\n",
       "      <td>3000000</td>\n",
       "      <td>1000</td>\n",
       "      <td>20000</td>\n",
       "      <td>20</td>\n",
       "      <td>sample</td>\n",
       "      <td>False</td>\n",
       "    </tr>\n",
       "    <tr>\n",
       "      <th>4</th>\n",
       "      <td>Habermann_Kropski_2020_pulmonary-fibrosis</td>\n",
       "      <td>data/10_public_datasets/Habermann_Kropski_2020...</td>\n",
       "      <td>600</td>\n",
       "      <td>30000</td>\n",
       "      <td>200</td>\n",
       "      <td>10000</td>\n",
       "      <td>20</td>\n",
       "      <td>sample</td>\n",
       "      <td>True</td>\n",
       "    </tr>\n",
       "    <tr>\n",
       "      <th>5</th>\n",
       "      <td>He_Fan_2021_LUAD</td>\n",
       "      <td>data/10_public_datasets/Kim_Lee_2020_LUAD/h5ad...</td>\n",
       "      <td>1000</td>\n",
       "      <td>35000</td>\n",
       "      <td>300</td>\n",
       "      <td>10000</td>\n",
       "      <td>20</td>\n",
       "      <td>sample</td>\n",
       "      <td>True</td>\n",
       "    </tr>\n",
       "    <tr>\n",
       "      <th>6</th>\n",
       "      <td>Kim_Lee_2020_LUAD</td>\n",
       "      <td>data/10_public_datasets/He_Fan_2021_LUAD/h5ad_...</td>\n",
       "      <td>600</td>\n",
       "      <td>30000</td>\n",
       "      <td>250</td>\n",
       "      <td>10000</td>\n",
       "      <td>20</td>\n",
       "      <td>sample</td>\n",
       "      <td>True</td>\n",
       "    </tr>\n",
       "    <tr>\n",
       "      <th>7</th>\n",
       "      <td>Lambrechts_2018_LUAD_6149v1</td>\n",
       "      <td>data/10_public_datasets/Lambrechts_2018_LUAD/E...</td>\n",
       "      <td>600</td>\n",
       "      <td>30000</td>\n",
       "      <td>200</td>\n",
       "      <td>10000</td>\n",
       "      <td>15</td>\n",
       "      <td>sample</td>\n",
       "      <td>True</td>\n",
       "    </tr>\n",
       "    <tr>\n",
       "      <th>8</th>\n",
       "      <td>Lambrechts_2018_LUAD_6149v2</td>\n",
       "      <td>data/10_public_datasets/Lambrechts_2018_LUAD/E...</td>\n",
       "      <td>600</td>\n",
       "      <td>30000</td>\n",
       "      <td>250</td>\n",
       "      <td>10000</td>\n",
       "      <td>20</td>\n",
       "      <td>sample</td>\n",
       "      <td>True</td>\n",
       "    </tr>\n",
       "    <tr>\n",
       "      <th>9</th>\n",
       "      <td>Lambrechts_2018_LUAD_6653</td>\n",
       "      <td>data/10_public_datasets/Lambrechts_2018_LUAD/E...</td>\n",
       "      <td>1200</td>\n",
       "      <td>40000</td>\n",
       "      <td>250</td>\n",
       "      <td>10000</td>\n",
       "      <td>20</td>\n",
       "      <td>sample</td>\n",
       "      <td>True</td>\n",
       "    </tr>\n",
       "    <tr>\n",
       "      <th>10</th>\n",
       "      <td>Laughney_Massague_2020_NSCLC</td>\n",
       "      <td>data/10_public_datasets/Laughney_Massague_2020...</td>\n",
       "      <td>1800</td>\n",
       "      <td>40000</td>\n",
       "      <td>500</td>\n",
       "      <td>10000</td>\n",
       "      <td>20</td>\n",
       "      <td>sample</td>\n",
       "      <td>True</td>\n",
       "    </tr>\n",
       "    <tr>\n",
       "      <th>11</th>\n",
       "      <td>Madissoon_Meyer_2020_pulmonary-fibrosis</td>\n",
       "      <td>data/10_public_datasets/Madissoon_Meyer_2020_p...</td>\n",
       "      <td>600</td>\n",
       "      <td>30000</td>\n",
       "      <td>300</td>\n",
       "      <td>10000</td>\n",
       "      <td>20</td>\n",
       "      <td>sample</td>\n",
       "      <td>True</td>\n",
       "    </tr>\n",
       "    <tr>\n",
       "      <th>12</th>\n",
       "      <td>Maier_Merad_2020_NSCLC</td>\n",
       "      <td>data/10_public_datasets/Maier_Merad_2020_NSCLC...</td>\n",
       "      <td>1000</td>\n",
       "      <td>30000</td>\n",
       "      <td>400</td>\n",
       "      <td>10000</td>\n",
       "      <td>15</td>\n",
       "      <td>sample</td>\n",
       "      <td>False</td>\n",
       "    </tr>\n",
       "    <tr>\n",
       "      <th>13</th>\n",
       "      <td>Maynard_Bivona_2020_NSCLC</td>\n",
       "      <td>data/10_public_datasets/Maynard_Bivona_2020_NS...</td>\n",
       "      <td>20000</td>\n",
       "      <td>20000000</td>\n",
       "      <td>600</td>\n",
       "      <td>20000</td>\n",
       "      <td>30</td>\n",
       "      <td>sample</td>\n",
       "      <td>False</td>\n",
       "    </tr>\n",
       "    <tr>\n",
       "      <th>14</th>\n",
       "      <td>Mayr_Schiller_2020_pulmonary-fibrosis</td>\n",
       "      <td>data/10_public_datasets/Mayr_Schiller_2020_pul...</td>\n",
       "      <td>600</td>\n",
       "      <td>30000</td>\n",
       "      <td>250</td>\n",
       "      <td>10000</td>\n",
       "      <td>10</td>\n",
       "      <td>sample</td>\n",
       "      <td>True</td>\n",
       "    </tr>\n",
       "    <tr>\n",
       "      <th>15</th>\n",
       "      <td>Reyfman_Misharin_2018_pulmonary-fibrosis</td>\n",
       "      <td>data/10_public_datasets/Reyfman_Misharin_2018_...</td>\n",
       "      <td>1000</td>\n",
       "      <td>30000</td>\n",
       "      <td>250</td>\n",
       "      <td>10000</td>\n",
       "      <td>20</td>\n",
       "      <td>sample</td>\n",
       "      <td>True</td>\n",
       "    </tr>\n",
       "    <tr>\n",
       "      <th>16</th>\n",
       "      <td>Travaglini_Krasnow_2020_Lung_10x</td>\n",
       "      <td>data/10_public_datasets/Travaglini_Krasnow_202...</td>\n",
       "      <td>1000</td>\n",
       "      <td>30000</td>\n",
       "      <td>500</td>\n",
       "      <td>10000</td>\n",
       "      <td>0</td>\n",
       "      <td>sample</td>\n",
       "      <td>True</td>\n",
       "    </tr>\n",
       "    <tr>\n",
       "      <th>17</th>\n",
       "      <td>Travaglini_Krasnow_2020_Lung_SS2</td>\n",
       "      <td>data/10_public_datasets/Travaglini_Krasnow_202...</td>\n",
       "      <td>20000</td>\n",
       "      <td>6000000</td>\n",
       "      <td>600</td>\n",
       "      <td>20000</td>\n",
       "      <td>30</td>\n",
       "      <td>sample</td>\n",
       "      <td>False</td>\n",
       "    </tr>\n",
       "    <tr>\n",
       "      <th>18</th>\n",
       "      <td>UKIM-V</td>\n",
       "      <td>data/11_own_datasets/batch1_3patients/h5ad_raw...</td>\n",
       "      <td>2000</td>\n",
       "      <td>100000</td>\n",
       "      <td>200</td>\n",
       "      <td>8000</td>\n",
       "      <td>30</td>\n",
       "      <td>sample</td>\n",
       "      <td>True</td>\n",
       "    </tr>\n",
       "    <tr>\n",
       "      <th>19</th>\n",
       "      <td>Vieira_Teichmann_2019_asthma</td>\n",
       "      <td>data/10_public_datasets/Vieira_Teichmann_2019_...</td>\n",
       "      <td>600</td>\n",
       "      <td>30000</td>\n",
       "      <td>200</td>\n",
       "      <td>10000</td>\n",
       "      <td>20</td>\n",
       "      <td>sample</td>\n",
       "      <td>True</td>\n",
       "    </tr>\n",
       "    <tr>\n",
       "      <th>20</th>\n",
       "      <td>Wu_Zhou_2021_NSCLC</td>\n",
       "      <td>data/10_public_datasets/Wu_Zhou_2021_NSCLC/h5a...</td>\n",
       "      <td>600</td>\n",
       "      <td>30000</td>\n",
       "      <td>300</td>\n",
       "      <td>10000</td>\n",
       "      <td>30</td>\n",
       "      <td>sample</td>\n",
       "      <td>True</td>\n",
       "    </tr>\n",
       "    <tr>\n",
       "      <th>21</th>\n",
       "      <td>Zilionis_Klein_2019_NSCLC</td>\n",
       "      <td>data/10_public_datasets/Zilionis_Klein_2019_NS...</td>\n",
       "      <td>600</td>\n",
       "      <td>30000</td>\n",
       "      <td>200</td>\n",
       "      <td>10000</td>\n",
       "      <td>20</td>\n",
       "      <td>sample</td>\n",
       "      <td>True</td>\n",
       "    </tr>\n",
       "  </tbody>\n",
       "</table>\n",
       "</div>"
      ],
      "text/plain": [
       "                                           id  \\\n",
       "0                    Adams_Kaminski_2020_COPD   \n",
       "1                       Chen_Zhang_2020_NSCLC   \n",
       "2                 Goveia_Carmeliet_2020_NSCLC   \n",
       "3                        Guo_Zhang_2018_NSCLC   \n",
       "4   Habermann_Kropski_2020_pulmonary-fibrosis   \n",
       "5                            He_Fan_2021_LUAD   \n",
       "6                           Kim_Lee_2020_LUAD   \n",
       "7                 Lambrechts_2018_LUAD_6149v1   \n",
       "8                 Lambrechts_2018_LUAD_6149v2   \n",
       "9                   Lambrechts_2018_LUAD_6653   \n",
       "10               Laughney_Massague_2020_NSCLC   \n",
       "11    Madissoon_Meyer_2020_pulmonary-fibrosis   \n",
       "12                     Maier_Merad_2020_NSCLC   \n",
       "13                  Maynard_Bivona_2020_NSCLC   \n",
       "14      Mayr_Schiller_2020_pulmonary-fibrosis   \n",
       "15   Reyfman_Misharin_2018_pulmonary-fibrosis   \n",
       "16           Travaglini_Krasnow_2020_Lung_10x   \n",
       "17           Travaglini_Krasnow_2020_Lung_SS2   \n",
       "18                                     UKIM-V   \n",
       "19               Vieira_Teichmann_2019_asthma   \n",
       "20                         Wu_Zhou_2021_NSCLC   \n",
       "21                  Zilionis_Klein_2019_NSCLC   \n",
       "\n",
       "                                          input_adata  min_counts  max_counts  \\\n",
       "0   data/10_public_datasets/Adams_Kaminski_2020_CO...        1000       35000   \n",
       "1   data/10_public_datasets/Chen_Zhang_2020_NSCLC/...         600       30000   \n",
       "2   data/10_public_datasets/Goveia_Carmeliet_2020_...         600       30000   \n",
       "3   data/10_public_datasets/Guo_Zhang_2018_NSCLC/h...       20000     3000000   \n",
       "4   data/10_public_datasets/Habermann_Kropski_2020...         600       30000   \n",
       "5   data/10_public_datasets/Kim_Lee_2020_LUAD/h5ad...        1000       35000   \n",
       "6   data/10_public_datasets/He_Fan_2021_LUAD/h5ad_...         600       30000   \n",
       "7   data/10_public_datasets/Lambrechts_2018_LUAD/E...         600       30000   \n",
       "8   data/10_public_datasets/Lambrechts_2018_LUAD/E...         600       30000   \n",
       "9   data/10_public_datasets/Lambrechts_2018_LUAD/E...        1200       40000   \n",
       "10  data/10_public_datasets/Laughney_Massague_2020...        1800       40000   \n",
       "11  data/10_public_datasets/Madissoon_Meyer_2020_p...         600       30000   \n",
       "12  data/10_public_datasets/Maier_Merad_2020_NSCLC...        1000       30000   \n",
       "13  data/10_public_datasets/Maynard_Bivona_2020_NS...       20000    20000000   \n",
       "14  data/10_public_datasets/Mayr_Schiller_2020_pul...         600       30000   \n",
       "15  data/10_public_datasets/Reyfman_Misharin_2018_...        1000       30000   \n",
       "16  data/10_public_datasets/Travaglini_Krasnow_202...        1000       30000   \n",
       "17  data/10_public_datasets/Travaglini_Krasnow_202...       20000     6000000   \n",
       "18  data/11_own_datasets/batch1_3patients/h5ad_raw...        2000      100000   \n",
       "19  data/10_public_datasets/Vieira_Teichmann_2019_...         600       30000   \n",
       "20  data/10_public_datasets/Wu_Zhou_2021_NSCLC/h5a...         600       30000   \n",
       "21  data/10_public_datasets/Zilionis_Klein_2019_NS...         600       30000   \n",
       "\n",
       "    min_genes  max_genes  max_pct_mito batch_key  run_solo  \n",
       "0         500      10000            20    sample      True  \n",
       "1         250      10000            20    sample      True  \n",
       "2         250      10000            20    sample      True  \n",
       "3        1000      20000            20    sample     False  \n",
       "4         200      10000            20    sample      True  \n",
       "5         300      10000            20    sample      True  \n",
       "6         250      10000            20    sample      True  \n",
       "7         200      10000            15    sample      True  \n",
       "8         250      10000            20    sample      True  \n",
       "9         250      10000            20    sample      True  \n",
       "10        500      10000            20    sample      True  \n",
       "11        300      10000            20    sample      True  \n",
       "12        400      10000            15    sample     False  \n",
       "13        600      20000            30    sample     False  \n",
       "14        250      10000            10    sample      True  \n",
       "15        250      10000            20    sample      True  \n",
       "16        500      10000             0    sample      True  \n",
       "17        600      20000            30    sample     False  \n",
       "18        200       8000            30    sample      True  \n",
       "19        200      10000            20    sample      True  \n",
       "20        300      10000            30    sample      True  \n",
       "21        200      10000            20    sample      True  "
      ]
     },
     "execution_count": 6,
     "metadata": {},
     "output_type": "execute_result"
    }
   ],
   "source": [
    "dataset_table"
   ]
  },
  {
   "cell_type": "code",
   "execution_count": 7,
   "metadata": {},
   "outputs": [],
   "source": [
    "datasets_annotated = [\"Maynard_Bivona_2020_NSCLC\", \"Lambrechts_2018_LUAD_6653\"]"
   ]
  },
  {
   "cell_type": "code",
   "execution_count": 8,
   "metadata": {},
   "outputs": [
    {
     "name": "stderr",
     "output_type": "stream",
     "text": [
      "100%|██████████| 22/22 [00:29<00:00,  1.33s/it]\n"
     ]
    }
   ],
   "source": [
    "datasets = {\n",
    "    dataset_id: sc.read_h5ad(\n",
    "        f\"{dataset_id}.qc.h5ad\"\n",
    "        if dataset_path == \".\"\n",
    "        else f\"{dataset_path}/{dataset_id}/{dataset_id}.qc.h5ad\"\n",
    "    )\n",
    "    for dataset_id in tqdm(dataset_table[\"id\"])\n",
    "}"
   ]
  },
  {
   "cell_type": "code",
   "execution_count": 9,
   "metadata": {},
   "outputs": [],
   "source": [
    "# Set cell-types of unannotated datasets to \"unknown\" for scVI\n",
    "for dataset_id in datasets:\n",
    "    datasets[dataset_id].obs[\"cell_type\"] = \"unknown\""
   ]
  },
  {
   "cell_type": "code",
   "execution_count": 10,
   "metadata": {},
   "outputs": [],
   "source": [
    "for dataset_id in datasets_annotated:\n",
    "    tmp_adata = sc.read_h5ad(\n",
    "        f\"{dataset_path_annotated}/{dataset_id}_annotated.h5ad\"\n",
    "    )\n",
    "    datasets[dataset_id].obs[\"cell_type\"] = tmp_adata.obs[\"cell_type\"]"
   ]
  },
  {
   "cell_type": "markdown",
   "metadata": {},
   "source": [
    "### Dataset-specific filtering and metadata fixes"
   ]
  },
  {
   "cell_type": "code",
   "execution_count": 11,
   "metadata": {},
   "outputs": [],
   "source": [
    "datasets[\"Adams_Kaminski_2020_COPD\"].obs[\"origin\"] = \"normal\"\n",
    "datasets[\"Adams_Kaminski_2020_COPD\"].obs[\"sex\"] = \"nan\"\n",
    "datasets[\"Adams_Kaminski_2020_COPD\"] = datasets[\"Adams_Kaminski_2020_COPD\"][\n",
    "    datasets[\"Adams_Kaminski_2020_COPD\"].obs[\"condition\"] != \"IPF\", :\n",
    "]"
   ]
  },
  {
   "cell_type": "code",
   "execution_count": 12,
   "metadata": {},
   "outputs": [],
   "source": [
    "# No modifications necessary for Chen_Zhang"
   ]
  },
  {
   "cell_type": "code",
   "execution_count": 13,
   "metadata": {},
   "outputs": [],
   "source": [
    "datasets[\"Goveia_Carmeliet_2020_NSCLC\"] = datasets[\"Goveia_Carmeliet_2020_NSCLC\"][\n",
    "    datasets[\"Goveia_Carmeliet_2020_NSCLC\"].obs[\"condition\"] != \"LLCC\"\n",
    "].copy()\n",
    "datasets[\"Goveia_Carmeliet_2020_NSCLC\"].obs[\"sex\"] = \"nan\""
   ]
  },
  {
   "cell_type": "code",
   "execution_count": 14,
   "metadata": {},
   "outputs": [],
   "source": [
    "datasets[\"Guo_Zhang_2018_NSCLC\"] = datasets[\"Guo_Zhang_2018_NSCLC\"][\n",
    "    datasets[\"Guo_Zhang_2018_NSCLC\"].obs[\"tissue\"] != \"blood\"\n",
    "].copy()\n",
    "datasets[\"Guo_Zhang_2018_NSCLC\"] = normalize_by_gene_length(\n",
    "    datasets[\"Guo_Zhang_2018_NSCLC\"]\n",
    ")\n",
    "datasets[\"Guo_Zhang_2018_NSCLC\"].obs[\"sex\"] = \"nan\""
   ]
  },
  {
   "cell_type": "code",
   "execution_count": 15,
   "metadata": {},
   "outputs": [],
   "source": [
    "datasets[\"Habermann_Kropski_2020_pulmonary-fibrosis\"].obs[\"sex\"] = [\n",
    "    {\"M\": \"male\", \"F\": \"female\", \"Unknown\": \"nan\"}[s]\n",
    "    for s in datasets[\"Habermann_Kropski_2020_pulmonary-fibrosis\"].obs[\"sex\"]\n",
    "]\n",
    "datasets[\"Habermann_Kropski_2020_pulmonary-fibrosis\"] = datasets[\n",
    "    \"Habermann_Kropski_2020_pulmonary-fibrosis\"\n",
    "][\n",
    "    datasets[\"Habermann_Kropski_2020_pulmonary-fibrosis\"].obs[\"condition\"]\n",
    "    == \"healthy_control\",\n",
    "    :,\n",
    "].copy()"
   ]
  },
  {
   "cell_type": "code",
   "execution_count": 16,
   "metadata": {},
   "outputs": [],
   "source": [
    "# No modifications necessary for He_Fan"
   ]
  },
  {
   "cell_type": "code",
   "execution_count": 17,
   "metadata": {},
   "outputs": [],
   "source": [
    "datasets[\"Maynard_Bivona_2020_NSCLC\"] = normalize_by_gene_length(\n",
    "    datasets[\"Maynard_Bivona_2020_NSCLC\"]\n",
    ")"
   ]
  },
  {
   "cell_type": "code",
   "execution_count": 18,
   "metadata": {},
   "outputs": [],
   "source": [
    "datasets[\"Laughney_Massague_2020_NSCLC\"].obs[\"sex\"] = \"nan\""
   ]
  },
  {
   "cell_type": "code",
   "execution_count": 19,
   "metadata": {},
   "outputs": [],
   "source": [
    "datasets[\"Maier_Merad_2020_NSCLC\"].obs[\"sex\"] = \"nan\""
   ]
  },
  {
   "cell_type": "code",
   "execution_count": 20,
   "metadata": {},
   "outputs": [],
   "source": [
    "datasets[\"Madissoon_Meyer_2020_pulmonary-fibrosis\"].obs[\"tissue\"] = \"lung\"\n",
    "datasets[\"Madissoon_Meyer_2020_pulmonary-fibrosis\"].obs[\"origin\"] = \"normal\"\n",
    "datasets[\"Madissoon_Meyer_2020_pulmonary-fibrosis\"].obs[\"condition\"] = \"healthy_control\"\n",
    "datasets[\"Madissoon_Meyer_2020_pulmonary-fibrosis\"].obs[\"sex\"] = \"nan\"\n",
    "datasets[\"Madissoon_Meyer_2020_pulmonary-fibrosis\"].X.data = np.rint(\n",
    "    datasets[\"Madissoon_Meyer_2020_pulmonary-fibrosis\"].X.data\n",
    ")"
   ]
  },
  {
   "cell_type": "code",
   "execution_count": 21,
   "metadata": {},
   "outputs": [],
   "source": [
    "datasets[\"Mayr_Schiller_2020_pulmonary-fibrosis\"].obs[\"sex\"] = \"nan\"\n",
    "datasets[\"Mayr_Schiller_2020_pulmonary-fibrosis\"] = datasets[\n",
    "    \"Mayr_Schiller_2020_pulmonary-fibrosis\"\n",
    "][\n",
    "    datasets[\"Mayr_Schiller_2020_pulmonary-fibrosis\"].obs[\"condition\"]\n",
    "    == \"healthy_control\",\n",
    "    :,\n",
    "]"
   ]
  },
  {
   "cell_type": "code",
   "execution_count": 22,
   "metadata": {},
   "outputs": [],
   "source": [
    "datasets[\"Reyfman_Misharin_2018_pulmonary-fibrosis\"].obs[\"sex\"] = \"nan\"\n",
    "datasets[\"Reyfman_Misharin_2018_pulmonary-fibrosis\"] = datasets[\n",
    "    \"Reyfman_Misharin_2018_pulmonary-fibrosis\"\n",
    "][\n",
    "    datasets[\"Reyfman_Misharin_2018_pulmonary-fibrosis\"].obs[\"condition\"]\n",
    "    == \"healthy_control\",\n",
    "    :,\n",
    "]"
   ]
  },
  {
   "cell_type": "code",
   "execution_count": 23,
   "metadata": {},
   "outputs": [],
   "source": [
    "datasets[\"Travaglini_Krasnow_2020_Lung_SS2\"] = datasets[\n",
    "    \"Travaglini_Krasnow_2020_Lung_SS2\"\n",
    "][datasets[\"Travaglini_Krasnow_2020_Lung_SS2\"].obs[\"tissue\"] == \"lung\", :]\n",
    "datasets[\"Travaglini_Krasnow_2020_Lung_SS2\"] = normalize_by_gene_length(\n",
    "    datasets[\"Travaglini_Krasnow_2020_Lung_SS2\"]\n",
    ")"
   ]
  },
  {
   "cell_type": "code",
   "execution_count": 24,
   "metadata": {},
   "outputs": [
    {
     "name": "stderr",
     "output_type": "stream",
     "text": [
      "Trying to set attribute `.obs` of view, copying.\n"
     ]
    }
   ],
   "source": [
    "datasets[\"Zilionis_Klein_2019_NSCLC\"] = datasets[\"Zilionis_Klein_2019_NSCLC\"][\n",
    "    datasets[\"Zilionis_Klein_2019_NSCLC\"].obs[\"tissue\"] == \"lung\", :\n",
    "]\n",
    "datasets[\"Zilionis_Klein_2019_NSCLC\"].obs[\"sex\"] = [\n",
    "    {\"M\": \"male\", \"F\": \"female\", \"Unknown\": \"nan\"}[s]\n",
    "    for s in datasets[\"Zilionis_Klein_2019_NSCLC\"].obs[\"sex\"]\n",
    "]"
   ]
  },
  {
   "cell_type": "markdown",
   "metadata": {},
   "source": [
    "### make patients unique across datasets\n",
    "\n",
    "Except for the two Travaglini variants - they are the same patients profiled with different platforms"
   ]
  },
  {
   "cell_type": "code",
   "execution_count": 25,
   "metadata": {},
   "outputs": [
    {
     "name": "stderr",
     "output_type": "stream",
     "text": [
      "Trying to set attribute `.obs` of view, copying.\n",
      "Trying to set attribute `.obs` of view, copying.\n",
      "Trying to set attribute `.obs` of view, copying.\n"
     ]
    }
   ],
   "source": [
    "for dataset_id, adata in datasets.items():\n",
    "    adata.obs[\"dataset\"] = dataset_id\n",
    "    adata.obs[\"patient\"] = [\n",
    "        f'{dataset.replace(\"_10x\", \"\").replace(\"_SS2\", \"\")}_{patient}'\n",
    "        for dataset, patient in zip(adata.obs[\"dataset\"], adata.obs[\"patient\"])\n",
    "    ]\n",
    "    datasets[dataset_id] = adata"
   ]
  },
  {
   "cell_type": "markdown",
   "metadata": {},
   "source": [
    "### Validate data"
   ]
  },
  {
   "cell_type": "code",
   "execution_count": 26,
   "metadata": {},
   "outputs": [
    {
     "data": {
      "text/plain": [
       "array([ 1.,  1., 12., ...,  1., 22.,  1.], dtype=float32)"
      ]
     },
     "execution_count": 26,
     "metadata": {},
     "output_type": "execute_result"
    }
   ],
   "source": [
    "datasets[\"Lambrechts_2018_LUAD_6653\"].X.data"
   ]
  },
  {
   "cell_type": "code",
   "execution_count": 27,
   "metadata": {},
   "outputs": [
    {
     "name": "stderr",
     "output_type": "stream",
     "text": [
      "/home/sturm/.conda/envs/pircher-sc-integrate2/lib/python3.8/site-packages/anndata/_core/anndata.py:1220: FutureWarning: The `inplace` parameter in pandas.Categorical.reorder_categories is deprecated and will be removed in a future version. Removing unused categories will always return a new Categorical object.\n",
      "  c.reorder_categories(natsorted(c.categories), inplace=True)\n",
      "... storing 'patient' as categorical\n"
     ]
    },
    {
     "name": "stdout",
     "output_type": "stream",
     "text": [
      "Validating Adams_Kaminski_2020_COPD\n"
     ]
    },
    {
     "name": "stderr",
     "output_type": "stream",
     "text": [
      "/home/sturm/.conda/envs/pircher-sc-integrate2/lib/python3.8/site-packages/anndata/_core/anndata.py:1220: FutureWarning: The `inplace` parameter in pandas.Categorical.reorder_categories is deprecated and will be removed in a future version. Removing unused categories will always return a new Categorical object.\n",
      "  c.reorder_categories(natsorted(c.categories), inplace=True)\n",
      "... storing 'sample' as categorical\n",
      "/home/sturm/.conda/envs/pircher-sc-integrate2/lib/python3.8/site-packages/anndata/_core/anndata.py:1220: FutureWarning: The `inplace` parameter in pandas.Categorical.reorder_categories is deprecated and will be removed in a future version. Removing unused categories will always return a new Categorical object.\n",
      "  c.reorder_categories(natsorted(c.categories), inplace=True)\n",
      "... storing 'cell_type' as categorical\n",
      "/home/sturm/.conda/envs/pircher-sc-integrate2/lib/python3.8/site-packages/anndata/_core/anndata.py:1220: FutureWarning: The `inplace` parameter in pandas.Categorical.reorder_categories is deprecated and will be removed in a future version. Removing unused categories will always return a new Categorical object.\n",
      "  c.reorder_categories(natsorted(c.categories), inplace=True)\n",
      "... storing 'origin' as categorical\n",
      "/home/sturm/.conda/envs/pircher-sc-integrate2/lib/python3.8/site-packages/anndata/_core/anndata.py:1220: FutureWarning: The `inplace` parameter in pandas.Categorical.reorder_categories is deprecated and will be removed in a future version. Removing unused categories will always return a new Categorical object.\n",
      "  c.reorder_categories(natsorted(c.categories), inplace=True)\n",
      "... storing 'sex' as categorical\n",
      "/home/sturm/.conda/envs/pircher-sc-integrate2/lib/python3.8/site-packages/anndata/_core/anndata.py:1220: FutureWarning: The `inplace` parameter in pandas.Categorical.reorder_categories is deprecated and will be removed in a future version. Removing unused categories will always return a new Categorical object.\n",
      "  c.reorder_categories(natsorted(c.categories), inplace=True)\n",
      "... storing 'dataset' as categorical\n",
      "/home/sturm/.conda/envs/pircher-sc-integrate2/lib/python3.8/site-packages/anndata/_core/anndata.py:1220: FutureWarning: The `inplace` parameter in pandas.Categorical.reorder_categories is deprecated and will be removed in a future version. Removing unused categories will always return a new Categorical object.\n",
      "  c.reorder_categories(natsorted(c.categories), inplace=True)\n",
      "... storing 'dataset' as categorical\n",
      "/home/sturm/.conda/envs/pircher-sc-integrate2/lib/python3.8/site-packages/anndata/_core/anndata.py:1220: FutureWarning: The `inplace` parameter in pandas.Categorical.reorder_categories is deprecated and will be removed in a future version. Removing unused categories will always return a new Categorical object.\n",
      "  c.reorder_categories(natsorted(c.categories), inplace=True)\n",
      "... storing 'sample' as categorical\n",
      "/home/sturm/.conda/envs/pircher-sc-integrate2/lib/python3.8/site-packages/anndata/_core/anndata.py:1220: FutureWarning: The `inplace` parameter in pandas.Categorical.reorder_categories is deprecated and will be removed in a future version. Removing unused categories will always return a new Categorical object.\n",
      "  c.reorder_categories(natsorted(c.categories), inplace=True)\n",
      "... storing 'patient' as categorical\n",
      "/home/sturm/.conda/envs/pircher-sc-integrate2/lib/python3.8/site-packages/anndata/_core/anndata.py:1220: FutureWarning: The `inplace` parameter in pandas.Categorical.reorder_categories is deprecated and will be removed in a future version. Removing unused categories will always return a new Categorical object.\n",
      "  c.reorder_categories(natsorted(c.categories), inplace=True)\n",
      "... storing 'cell_type' as categorical\n"
     ]
    },
    {
     "name": "stdout",
     "output_type": "stream",
     "text": [
      "Validating Chen_Zhang_2020_NSCLC\n"
     ]
    },
    {
     "name": "stderr",
     "output_type": "stream",
     "text": [
      "/home/sturm/.conda/envs/pircher-sc-integrate2/lib/python3.8/site-packages/anndata/_core/anndata.py:1220: FutureWarning: The `inplace` parameter in pandas.Categorical.reorder_categories is deprecated and will be removed in a future version. Removing unused categories will always return a new Categorical object.\n",
      "  c.reorder_categories(natsorted(c.categories), inplace=True)\n",
      "... storing 'patient' as categorical\n",
      "/home/sturm/.conda/envs/pircher-sc-integrate2/lib/python3.8/site-packages/anndata/_core/anndata.py:1220: FutureWarning: The `inplace` parameter in pandas.Categorical.reorder_categories is deprecated and will be removed in a future version. Removing unused categories will always return a new Categorical object.\n",
      "  c.reorder_categories(natsorted(c.categories), inplace=True)\n",
      "... storing 'sample' as categorical\n",
      "/home/sturm/.conda/envs/pircher-sc-integrate2/lib/python3.8/site-packages/anndata/_core/anndata.py:1220: FutureWarning: The `inplace` parameter in pandas.Categorical.reorder_categories is deprecated and will be removed in a future version. Removing unused categories will always return a new Categorical object.\n",
      "  c.reorder_categories(natsorted(c.categories), inplace=True)\n",
      "... storing 'cell_type' as categorical\n",
      "/home/sturm/.conda/envs/pircher-sc-integrate2/lib/python3.8/site-packages/anndata/_core/anndata.py:1220: FutureWarning: The `inplace` parameter in pandas.Categorical.reorder_categories is deprecated and will be removed in a future version. Removing unused categories will always return a new Categorical object.\n",
      "  c.reorder_categories(natsorted(c.categories), inplace=True)\n",
      "... storing 'sex' as categorical\n",
      "/home/sturm/.conda/envs/pircher-sc-integrate2/lib/python3.8/site-packages/anndata/_core/anndata.py:1220: FutureWarning: The `inplace` parameter in pandas.Categorical.reorder_categories is deprecated and will be removed in a future version. Removing unused categories will always return a new Categorical object.\n",
      "  c.reorder_categories(natsorted(c.categories), inplace=True)\n",
      "... storing 'dataset' as categorical\n"
     ]
    },
    {
     "name": "stdout",
     "output_type": "stream",
     "text": [
      "Validating Goveia_Carmeliet_2020_NSCLC\n"
     ]
    },
    {
     "name": "stderr",
     "output_type": "stream",
     "text": [
      "/home/sturm/.conda/envs/pircher-sc-integrate2/lib/python3.8/site-packages/anndata/_core/anndata.py:1220: FutureWarning: The `inplace` parameter in pandas.Categorical.reorder_categories is deprecated and will be removed in a future version. Removing unused categories will always return a new Categorical object.\n",
      "  c.reorder_categories(natsorted(c.categories), inplace=True)\n",
      "... storing 'patient' as categorical\n",
      "/home/sturm/.conda/envs/pircher-sc-integrate2/lib/python3.8/site-packages/anndata/_core/anndata.py:1220: FutureWarning: The `inplace` parameter in pandas.Categorical.reorder_categories is deprecated and will be removed in a future version. Removing unused categories will always return a new Categorical object.\n",
      "  c.reorder_categories(natsorted(c.categories), inplace=True)\n",
      "... storing 'cell_type' as categorical\n",
      "/home/sturm/.conda/envs/pircher-sc-integrate2/lib/python3.8/site-packages/anndata/_core/anndata.py:1220: FutureWarning: The `inplace` parameter in pandas.Categorical.reorder_categories is deprecated and will be removed in a future version. Removing unused categories will always return a new Categorical object.\n",
      "  c.reorder_categories(natsorted(c.categories), inplace=True)\n",
      "... storing 'sample' as categorical\n",
      "/home/sturm/.conda/envs/pircher-sc-integrate2/lib/python3.8/site-packages/anndata/_core/anndata.py:1220: FutureWarning: The `inplace` parameter in pandas.Categorical.reorder_categories is deprecated and will be removed in a future version. Removing unused categories will always return a new Categorical object.\n",
      "  c.reorder_categories(natsorted(c.categories), inplace=True)\n",
      "... storing 'sex' as categorical\n",
      "/home/sturm/.conda/envs/pircher-sc-integrate2/lib/python3.8/site-packages/anndata/_core/anndata.py:1220: FutureWarning: The `inplace` parameter in pandas.Categorical.reorder_categories is deprecated and will be removed in a future version. Removing unused categories will always return a new Categorical object.\n",
      "  c.reorder_categories(natsorted(c.categories), inplace=True)\n",
      "... storing 'dataset' as categorical\n"
     ]
    },
    {
     "name": "stdout",
     "output_type": "stream",
     "text": [
      "Validating Guo_Zhang_2018_NSCLC\n"
     ]
    },
    {
     "name": "stderr",
     "output_type": "stream",
     "text": [
      "/home/sturm/.conda/envs/pircher-sc-integrate2/lib/python3.8/site-packages/anndata/_core/anndata.py:1220: FutureWarning: The `inplace` parameter in pandas.Categorical.reorder_categories is deprecated and will be removed in a future version. Removing unused categories will always return a new Categorical object.\n",
      "  c.reorder_categories(natsorted(c.categories), inplace=True)\n",
      "... storing 'sample' as categorical\n",
      "/home/sturm/.conda/envs/pircher-sc-integrate2/lib/python3.8/site-packages/anndata/_core/anndata.py:1220: FutureWarning: The `inplace` parameter in pandas.Categorical.reorder_categories is deprecated and will be removed in a future version. Removing unused categories will always return a new Categorical object.\n",
      "  c.reorder_categories(natsorted(c.categories), inplace=True)\n",
      "... storing 'sex' as categorical\n",
      "/home/sturm/.conda/envs/pircher-sc-integrate2/lib/python3.8/site-packages/anndata/_core/anndata.py:1220: FutureWarning: The `inplace` parameter in pandas.Categorical.reorder_categories is deprecated and will be removed in a future version. Removing unused categories will always return a new Categorical object.\n",
      "  c.reorder_categories(natsorted(c.categories), inplace=True)\n",
      "... storing 'patient' as categorical\n",
      "/home/sturm/.conda/envs/pircher-sc-integrate2/lib/python3.8/site-packages/anndata/_core/anndata.py:1220: FutureWarning: The `inplace` parameter in pandas.Categorical.reorder_categories is deprecated and will be removed in a future version. Removing unused categories will always return a new Categorical object.\n",
      "  c.reorder_categories(natsorted(c.categories), inplace=True)\n",
      "... storing 'dataset' as categorical\n",
      "/home/sturm/.conda/envs/pircher-sc-integrate2/lib/python3.8/site-packages/anndata/_core/anndata.py:1220: FutureWarning: The `inplace` parameter in pandas.Categorical.reorder_categories is deprecated and will be removed in a future version. Removing unused categories will always return a new Categorical object.\n",
      "  c.reorder_categories(natsorted(c.categories), inplace=True)\n",
      "... storing 'cell_type' as categorical\n"
     ]
    },
    {
     "name": "stdout",
     "output_type": "stream",
     "text": [
      "Validating Habermann_Kropski_2020_pulmonary-fibrosis\n"
     ]
    },
    {
     "name": "stderr",
     "output_type": "stream",
     "text": [
      "/home/sturm/.conda/envs/pircher-sc-integrate2/lib/python3.8/site-packages/anndata/_core/anndata.py:1220: FutureWarning: The `inplace` parameter in pandas.Categorical.reorder_categories is deprecated and will be removed in a future version. Removing unused categories will always return a new Categorical object.\n",
      "  c.reorder_categories(natsorted(c.categories), inplace=True)\n",
      "... storing 'sample' as categorical\n"
     ]
    },
    {
     "name": "stdout",
     "output_type": "stream",
     "text": [
      "Validating He_Fan_2021_LUAD\n"
     ]
    },
    {
     "name": "stderr",
     "output_type": "stream",
     "text": [
      "/home/sturm/.conda/envs/pircher-sc-integrate2/lib/python3.8/site-packages/anndata/_core/anndata.py:1220: FutureWarning: The `inplace` parameter in pandas.Categorical.reorder_categories is deprecated and will be removed in a future version. Removing unused categories will always return a new Categorical object.\n",
      "  c.reorder_categories(natsorted(c.categories), inplace=True)\n",
      "... storing 'patient' as categorical\n",
      "/home/sturm/.conda/envs/pircher-sc-integrate2/lib/python3.8/site-packages/anndata/_core/anndata.py:1220: FutureWarning: The `inplace` parameter in pandas.Categorical.reorder_categories is deprecated and will be removed in a future version. Removing unused categories will always return a new Categorical object.\n",
      "  c.reorder_categories(natsorted(c.categories), inplace=True)\n",
      "... storing 'dataset' as categorical\n",
      "/home/sturm/.conda/envs/pircher-sc-integrate2/lib/python3.8/site-packages/anndata/_core/anndata.py:1220: FutureWarning: The `inplace` parameter in pandas.Categorical.reorder_categories is deprecated and will be removed in a future version. Removing unused categories will always return a new Categorical object.\n",
      "  c.reorder_categories(natsorted(c.categories), inplace=True)\n",
      "... storing 'cell_type' as categorical\n",
      "/home/sturm/.conda/envs/pircher-sc-integrate2/lib/python3.8/site-packages/anndata/_core/anndata.py:1220: FutureWarning: The `inplace` parameter in pandas.Categorical.reorder_categories is deprecated and will be removed in a future version. Removing unused categories will always return a new Categorical object.\n",
      "  c.reorder_categories(natsorted(c.categories), inplace=True)\n",
      "... storing 'dataset' as categorical\n",
      "/home/sturm/.conda/envs/pircher-sc-integrate2/lib/python3.8/site-packages/anndata/_core/anndata.py:1220: FutureWarning: The `inplace` parameter in pandas.Categorical.reorder_categories is deprecated and will be removed in a future version. Removing unused categories will always return a new Categorical object.\n",
      "  c.reorder_categories(natsorted(c.categories), inplace=True)\n",
      "... storing 'sample' as categorical\n",
      "/home/sturm/.conda/envs/pircher-sc-integrate2/lib/python3.8/site-packages/anndata/_core/anndata.py:1220: FutureWarning: The `inplace` parameter in pandas.Categorical.reorder_categories is deprecated and will be removed in a future version. Removing unused categories will always return a new Categorical object.\n",
      "  c.reorder_categories(natsorted(c.categories), inplace=True)\n",
      "... storing 'patient' as categorical\n",
      "/home/sturm/.conda/envs/pircher-sc-integrate2/lib/python3.8/site-packages/anndata/_core/anndata.py:1220: FutureWarning: The `inplace` parameter in pandas.Categorical.reorder_categories is deprecated and will be removed in a future version. Removing unused categories will always return a new Categorical object.\n",
      "  c.reorder_categories(natsorted(c.categories), inplace=True)\n",
      "... storing 'cell_type' as categorical\n"
     ]
    },
    {
     "name": "stdout",
     "output_type": "stream",
     "text": [
      "Validating Kim_Lee_2020_LUAD\n"
     ]
    },
    {
     "name": "stderr",
     "output_type": "stream",
     "text": [
      "/home/sturm/.conda/envs/pircher-sc-integrate2/lib/python3.8/site-packages/anndata/_core/anndata.py:1220: FutureWarning: The `inplace` parameter in pandas.Categorical.reorder_categories is deprecated and will be removed in a future version. Removing unused categories will always return a new Categorical object.\n",
      "  c.reorder_categories(natsorted(c.categories), inplace=True)\n",
      "... storing 'dataset' as categorical\n",
      "/home/sturm/.conda/envs/pircher-sc-integrate2/lib/python3.8/site-packages/anndata/_core/anndata.py:1220: FutureWarning: The `inplace` parameter in pandas.Categorical.reorder_categories is deprecated and will be removed in a future version. Removing unused categories will always return a new Categorical object.\n",
      "  c.reorder_categories(natsorted(c.categories), inplace=True)\n",
      "... storing 'sample' as categorical\n",
      "/home/sturm/.conda/envs/pircher-sc-integrate2/lib/python3.8/site-packages/anndata/_core/anndata.py:1220: FutureWarning: The `inplace` parameter in pandas.Categorical.reorder_categories is deprecated and will be removed in a future version. Removing unused categories will always return a new Categorical object.\n",
      "  c.reorder_categories(natsorted(c.categories), inplace=True)\n",
      "... storing 'patient' as categorical\n",
      "/home/sturm/.conda/envs/pircher-sc-integrate2/lib/python3.8/site-packages/anndata/_core/anndata.py:1220: FutureWarning: The `inplace` parameter in pandas.Categorical.reorder_categories is deprecated and will be removed in a future version. Removing unused categories will always return a new Categorical object.\n",
      "  c.reorder_categories(natsorted(c.categories), inplace=True)\n",
      "... storing 'cell_type' as categorical\n",
      "/home/sturm/.conda/envs/pircher-sc-integrate2/lib/python3.8/site-packages/anndata/_core/anndata.py:1220: FutureWarning: The `inplace` parameter in pandas.Categorical.reorder_categories is deprecated and will be removed in a future version. Removing unused categories will always return a new Categorical object.\n",
      "  c.reorder_categories(natsorted(c.categories), inplace=True)\n",
      "... storing 'dataset' as categorical\n",
      "/home/sturm/.conda/envs/pircher-sc-integrate2/lib/python3.8/site-packages/anndata/_core/anndata.py:1220: FutureWarning: The `inplace` parameter in pandas.Categorical.reorder_categories is deprecated and will be removed in a future version. Removing unused categories will always return a new Categorical object.\n",
      "  c.reorder_categories(natsorted(c.categories), inplace=True)\n",
      "... storing 'sample' as categorical\n",
      "/home/sturm/.conda/envs/pircher-sc-integrate2/lib/python3.8/site-packages/anndata/_core/anndata.py:1220: FutureWarning: The `inplace` parameter in pandas.Categorical.reorder_categories is deprecated and will be removed in a future version. Removing unused categories will always return a new Categorical object.\n",
      "  c.reorder_categories(natsorted(c.categories), inplace=True)\n",
      "... storing 'patient' as categorical\n",
      "/home/sturm/.conda/envs/pircher-sc-integrate2/lib/python3.8/site-packages/anndata/_core/anndata.py:1220: FutureWarning: The `inplace` parameter in pandas.Categorical.reorder_categories is deprecated and will be removed in a future version. Removing unused categories will always return a new Categorical object.\n",
      "  c.reorder_categories(natsorted(c.categories), inplace=True)\n",
      "... storing 'cell_type' as categorical\n"
     ]
    },
    {
     "name": "stdout",
     "output_type": "stream",
     "text": [
      "Validating Lambrechts_2018_LUAD_6149v1\n",
      "Validating Lambrechts_2018_LUAD_6149v2\n"
     ]
    },
    {
     "name": "stderr",
     "output_type": "stream",
     "text": [
      "/home/sturm/.conda/envs/pircher-sc-integrate2/lib/python3.8/site-packages/anndata/_core/anndata.py:1220: FutureWarning: The `inplace` parameter in pandas.Categorical.reorder_categories is deprecated and will be removed in a future version. Removing unused categories will always return a new Categorical object.\n",
      "  c.reorder_categories(natsorted(c.categories), inplace=True)\n",
      "... storing 'dataset' as categorical\n",
      "/home/sturm/.conda/envs/pircher-sc-integrate2/lib/python3.8/site-packages/anndata/_core/anndata.py:1220: FutureWarning: The `inplace` parameter in pandas.Categorical.reorder_categories is deprecated and will be removed in a future version. Removing unused categories will always return a new Categorical object.\n",
      "  c.reorder_categories(natsorted(c.categories), inplace=True)\n",
      "... storing 'sample' as categorical\n",
      "/home/sturm/.conda/envs/pircher-sc-integrate2/lib/python3.8/site-packages/anndata/_core/anndata.py:1220: FutureWarning: The `inplace` parameter in pandas.Categorical.reorder_categories is deprecated and will be removed in a future version. Removing unused categories will always return a new Categorical object.\n",
      "  c.reorder_categories(natsorted(c.categories), inplace=True)\n",
      "... storing 'patient' as categorical\n"
     ]
    },
    {
     "name": "stdout",
     "output_type": "stream",
     "text": [
      "Validating Lambrechts_2018_LUAD_6653\n"
     ]
    },
    {
     "name": "stderr",
     "output_type": "stream",
     "text": [
      "/home/sturm/.conda/envs/pircher-sc-integrate2/lib/python3.8/site-packages/anndata/_core/anndata.py:1220: FutureWarning: The `inplace` parameter in pandas.Categorical.reorder_categories is deprecated and will be removed in a future version. Removing unused categories will always return a new Categorical object.\n",
      "  c.reorder_categories(natsorted(c.categories), inplace=True)\n",
      "... storing 'sample' as categorical\n",
      "/home/sturm/.conda/envs/pircher-sc-integrate2/lib/python3.8/site-packages/anndata/_core/anndata.py:1220: FutureWarning: The `inplace` parameter in pandas.Categorical.reorder_categories is deprecated and will be removed in a future version. Removing unused categories will always return a new Categorical object.\n",
      "  c.reorder_categories(natsorted(c.categories), inplace=True)\n",
      "... storing 'patient' as categorical\n",
      "/home/sturm/.conda/envs/pircher-sc-integrate2/lib/python3.8/site-packages/anndata/_core/anndata.py:1220: FutureWarning: The `inplace` parameter in pandas.Categorical.reorder_categories is deprecated and will be removed in a future version. Removing unused categories will always return a new Categorical object.\n",
      "  c.reorder_categories(natsorted(c.categories), inplace=True)\n",
      "... storing 'cell_type' as categorical\n",
      "/home/sturm/.conda/envs/pircher-sc-integrate2/lib/python3.8/site-packages/anndata/_core/anndata.py:1220: FutureWarning: The `inplace` parameter in pandas.Categorical.reorder_categories is deprecated and will be removed in a future version. Removing unused categories will always return a new Categorical object.\n",
      "  c.reorder_categories(natsorted(c.categories), inplace=True)\n",
      "... storing 'sex' as categorical\n",
      "/home/sturm/.conda/envs/pircher-sc-integrate2/lib/python3.8/site-packages/anndata/_core/anndata.py:1220: FutureWarning: The `inplace` parameter in pandas.Categorical.reorder_categories is deprecated and will be removed in a future version. Removing unused categories will always return a new Categorical object.\n",
      "  c.reorder_categories(natsorted(c.categories), inplace=True)\n",
      "... storing 'dataset' as categorical\n"
     ]
    },
    {
     "name": "stdout",
     "output_type": "stream",
     "text": [
      "Validating Laughney_Massague_2020_NSCLC\n",
      "Validating Madissoon_Meyer_2020_pulmonary-fibrosis\n"
     ]
    },
    {
     "name": "stderr",
     "output_type": "stream",
     "text": [
      "/home/sturm/.conda/envs/pircher-sc-integrate2/lib/python3.8/site-packages/anndata/_core/anndata.py:1220: FutureWarning: The `inplace` parameter in pandas.Categorical.reorder_categories is deprecated and will be removed in a future version. Removing unused categories will always return a new Categorical object.\n",
      "  c.reorder_categories(natsorted(c.categories), inplace=True)\n",
      "... storing 'patient' as categorical\n",
      "/home/sturm/.conda/envs/pircher-sc-integrate2/lib/python3.8/site-packages/anndata/_core/anndata.py:1220: FutureWarning: The `inplace` parameter in pandas.Categorical.reorder_categories is deprecated and will be removed in a future version. Removing unused categories will always return a new Categorical object.\n",
      "  c.reorder_categories(natsorted(c.categories), inplace=True)\n",
      "... storing 'sample' as categorical\n",
      "/home/sturm/.conda/envs/pircher-sc-integrate2/lib/python3.8/site-packages/anndata/_core/anndata.py:1220: FutureWarning: The `inplace` parameter in pandas.Categorical.reorder_categories is deprecated and will be removed in a future version. Removing unused categories will always return a new Categorical object.\n",
      "  c.reorder_categories(natsorted(c.categories), inplace=True)\n",
      "... storing 'cell_type' as categorical\n",
      "/home/sturm/.conda/envs/pircher-sc-integrate2/lib/python3.8/site-packages/anndata/_core/anndata.py:1220: FutureWarning: The `inplace` parameter in pandas.Categorical.reorder_categories is deprecated and will be removed in a future version. Removing unused categories will always return a new Categorical object.\n",
      "  c.reorder_categories(natsorted(c.categories), inplace=True)\n",
      "... storing 'tissue' as categorical\n",
      "/home/sturm/.conda/envs/pircher-sc-integrate2/lib/python3.8/site-packages/anndata/_core/anndata.py:1220: FutureWarning: The `inplace` parameter in pandas.Categorical.reorder_categories is deprecated and will be removed in a future version. Removing unused categories will always return a new Categorical object.\n",
      "  c.reorder_categories(natsorted(c.categories), inplace=True)\n",
      "... storing 'origin' as categorical\n",
      "/home/sturm/.conda/envs/pircher-sc-integrate2/lib/python3.8/site-packages/anndata/_core/anndata.py:1220: FutureWarning: The `inplace` parameter in pandas.Categorical.reorder_categories is deprecated and will be removed in a future version. Removing unused categories will always return a new Categorical object.\n",
      "  c.reorder_categories(natsorted(c.categories), inplace=True)\n",
      "... storing 'condition' as categorical\n",
      "/home/sturm/.conda/envs/pircher-sc-integrate2/lib/python3.8/site-packages/anndata/_core/anndata.py:1220: FutureWarning: The `inplace` parameter in pandas.Categorical.reorder_categories is deprecated and will be removed in a future version. Removing unused categories will always return a new Categorical object.\n",
      "  c.reorder_categories(natsorted(c.categories), inplace=True)\n",
      "... storing 'sex' as categorical\n",
      "/home/sturm/.conda/envs/pircher-sc-integrate2/lib/python3.8/site-packages/anndata/_core/anndata.py:1220: FutureWarning: The `inplace` parameter in pandas.Categorical.reorder_categories is deprecated and will be removed in a future version. Removing unused categories will always return a new Categorical object.\n",
      "  c.reorder_categories(natsorted(c.categories), inplace=True)\n",
      "... storing 'dataset' as categorical\n",
      "/home/sturm/.conda/envs/pircher-sc-integrate2/lib/python3.8/site-packages/anndata/_core/anndata.py:1220: FutureWarning: The `inplace` parameter in pandas.Categorical.reorder_categories is deprecated and will be removed in a future version. Removing unused categories will always return a new Categorical object.\n",
      "  c.reorder_categories(natsorted(c.categories), inplace=True)\n",
      "... storing 'sample' as categorical\n",
      "/home/sturm/.conda/envs/pircher-sc-integrate2/lib/python3.8/site-packages/anndata/_core/anndata.py:1220: FutureWarning: The `inplace` parameter in pandas.Categorical.reorder_categories is deprecated and will be removed in a future version. Removing unused categories will always return a new Categorical object.\n",
      "  c.reorder_categories(natsorted(c.categories), inplace=True)\n",
      "... storing 'patient' as categorical\n",
      "/home/sturm/.conda/envs/pircher-sc-integrate2/lib/python3.8/site-packages/anndata/_core/anndata.py:1220: FutureWarning: The `inplace` parameter in pandas.Categorical.reorder_categories is deprecated and will be removed in a future version. Removing unused categories will always return a new Categorical object.\n",
      "  c.reorder_categories(natsorted(c.categories), inplace=True)\n",
      "... storing 'cell_type' as categorical\n",
      "/home/sturm/.conda/envs/pircher-sc-integrate2/lib/python3.8/site-packages/anndata/_core/anndata.py:1220: FutureWarning: The `inplace` parameter in pandas.Categorical.reorder_categories is deprecated and will be removed in a future version. Removing unused categories will always return a new Categorical object.\n",
      "  c.reorder_categories(natsorted(c.categories), inplace=True)\n",
      "... storing 'sex' as categorical\n",
      "/home/sturm/.conda/envs/pircher-sc-integrate2/lib/python3.8/site-packages/anndata/_core/anndata.py:1220: FutureWarning: The `inplace` parameter in pandas.Categorical.reorder_categories is deprecated and will be removed in a future version. Removing unused categories will always return a new Categorical object.\n",
      "  c.reorder_categories(natsorted(c.categories), inplace=True)\n",
      "... storing 'dataset' as categorical\n"
     ]
    },
    {
     "name": "stdout",
     "output_type": "stream",
     "text": [
      "Validating Maier_Merad_2020_NSCLC\n",
      "Validating Maynard_Bivona_2020_NSCLC\n"
     ]
    },
    {
     "name": "stderr",
     "output_type": "stream",
     "text": [
      "/home/sturm/.conda/envs/pircher-sc-integrate2/lib/python3.8/site-packages/anndata/_core/anndata.py:1220: FutureWarning: The `inplace` parameter in pandas.Categorical.reorder_categories is deprecated and will be removed in a future version. Removing unused categories will always return a new Categorical object.\n",
      "  c.reorder_categories(natsorted(c.categories), inplace=True)\n",
      "... storing 'sample' as categorical\n",
      "/home/sturm/.conda/envs/pircher-sc-integrate2/lib/python3.8/site-packages/anndata/_core/anndata.py:1220: FutureWarning: The `inplace` parameter in pandas.Categorical.reorder_categories is deprecated and will be removed in a future version. Removing unused categories will always return a new Categorical object.\n",
      "  c.reorder_categories(natsorted(c.categories), inplace=True)\n",
      "... storing 'patient' as categorical\n",
      "/home/sturm/.conda/envs/pircher-sc-integrate2/lib/python3.8/site-packages/anndata/_core/anndata.py:1220: FutureWarning: The `inplace` parameter in pandas.Categorical.reorder_categories is deprecated and will be removed in a future version. Removing unused categories will always return a new Categorical object.\n",
      "  c.reorder_categories(natsorted(c.categories), inplace=True)\n",
      "... storing 'dataset' as categorical\n",
      "/home/sturm/.conda/envs/pircher-sc-integrate2/lib/python3.8/site-packages/anndata/_core/anndata.py:1220: FutureWarning: The `inplace` parameter in pandas.Categorical.reorder_categories is deprecated and will be removed in a future version. Removing unused categories will always return a new Categorical object.\n",
      "  c.reorder_categories(natsorted(c.categories), inplace=True)\n",
      "... storing 'sample' as categorical\n",
      "/home/sturm/.conda/envs/pircher-sc-integrate2/lib/python3.8/site-packages/anndata/_core/anndata.py:1220: FutureWarning: The `inplace` parameter in pandas.Categorical.reorder_categories is deprecated and will be removed in a future version. Removing unused categories will always return a new Categorical object.\n",
      "  c.reorder_categories(natsorted(c.categories), inplace=True)\n",
      "... storing 'patient' as categorical\n",
      "/home/sturm/.conda/envs/pircher-sc-integrate2/lib/python3.8/site-packages/anndata/_core/anndata.py:1220: FutureWarning: The `inplace` parameter in pandas.Categorical.reorder_categories is deprecated and will be removed in a future version. Removing unused categories will always return a new Categorical object.\n",
      "  c.reorder_categories(natsorted(c.categories), inplace=True)\n",
      "... storing 'dataset' as categorical\n",
      "/home/sturm/.conda/envs/pircher-sc-integrate2/lib/python3.8/site-packages/anndata/_core/anndata.py:1220: FutureWarning: The `inplace` parameter in pandas.Categorical.reorder_categories is deprecated and will be removed in a future version. Removing unused categories will always return a new Categorical object.\n",
      "  c.reorder_categories(natsorted(c.categories), inplace=True)\n",
      "... storing 'cell_type' as categorical\n",
      "/home/sturm/.conda/envs/pircher-sc-integrate2/lib/python3.8/site-packages/anndata/_core/anndata.py:1220: FutureWarning: The `inplace` parameter in pandas.Categorical.reorder_categories is deprecated and will be removed in a future version. Removing unused categories will always return a new Categorical object.\n",
      "  c.reorder_categories(natsorted(c.categories), inplace=True)\n",
      "... storing 'sex' as categorical\n",
      "/home/sturm/.conda/envs/pircher-sc-integrate2/lib/python3.8/site-packages/anndata/_core/anndata.py:1220: FutureWarning: The `inplace` parameter in pandas.Categorical.reorder_categories is deprecated and will be removed in a future version. Removing unused categories will always return a new Categorical object.\n",
      "  c.reorder_categories(natsorted(c.categories), inplace=True)\n",
      "... storing 'dataset' as categorical\n",
      "/home/sturm/.conda/envs/pircher-sc-integrate2/lib/python3.8/site-packages/anndata/_core/anndata.py:1220: FutureWarning: The `inplace` parameter in pandas.Categorical.reorder_categories is deprecated and will be removed in a future version. Removing unused categories will always return a new Categorical object.\n",
      "  c.reorder_categories(natsorted(c.categories), inplace=True)\n",
      "... storing 'sample' as categorical\n",
      "/home/sturm/.conda/envs/pircher-sc-integrate2/lib/python3.8/site-packages/anndata/_core/anndata.py:1220: FutureWarning: The `inplace` parameter in pandas.Categorical.reorder_categories is deprecated and will be removed in a future version. Removing unused categories will always return a new Categorical object.\n",
      "  c.reorder_categories(natsorted(c.categories), inplace=True)\n",
      "... storing 'patient' as categorical\n",
      "/home/sturm/.conda/envs/pircher-sc-integrate2/lib/python3.8/site-packages/anndata/_core/anndata.py:1220: FutureWarning: The `inplace` parameter in pandas.Categorical.reorder_categories is deprecated and will be removed in a future version. Removing unused categories will always return a new Categorical object.\n",
      "  c.reorder_categories(natsorted(c.categories), inplace=True)\n",
      "... storing 'cell_type' as categorical\n",
      "/home/sturm/.conda/envs/pircher-sc-integrate2/lib/python3.8/site-packages/anndata/_core/anndata.py:1220: FutureWarning: The `inplace` parameter in pandas.Categorical.reorder_categories is deprecated and will be removed in a future version. Removing unused categories will always return a new Categorical object.\n",
      "  c.reorder_categories(natsorted(c.categories), inplace=True)\n",
      "... storing 'sex' as categorical\n"
     ]
    },
    {
     "name": "stdout",
     "output_type": "stream",
     "text": [
      "Validating Mayr_Schiller_2020_pulmonary-fibrosis\n",
      "Validating Reyfman_Misharin_2018_pulmonary-fibrosis\n"
     ]
    },
    {
     "name": "stderr",
     "output_type": "stream",
     "text": [
      "/home/sturm/.conda/envs/pircher-sc-integrate2/lib/python3.8/site-packages/anndata/_core/anndata.py:1220: FutureWarning: The `inplace` parameter in pandas.Categorical.reorder_categories is deprecated and will be removed in a future version. Removing unused categories will always return a new Categorical object.\n",
      "  c.reorder_categories(natsorted(c.categories), inplace=True)\n",
      "... storing 'sample' as categorical\n",
      "/home/sturm/.conda/envs/pircher-sc-integrate2/lib/python3.8/site-packages/anndata/_core/anndata.py:1220: FutureWarning: The `inplace` parameter in pandas.Categorical.reorder_categories is deprecated and will be removed in a future version. Removing unused categories will always return a new Categorical object.\n",
      "  c.reorder_categories(natsorted(c.categories), inplace=True)\n",
      "... storing 'patient' as categorical\n",
      "/home/sturm/.conda/envs/pircher-sc-integrate2/lib/python3.8/site-packages/anndata/_core/anndata.py:1220: FutureWarning: The `inplace` parameter in pandas.Categorical.reorder_categories is deprecated and will be removed in a future version. Removing unused categories will always return a new Categorical object.\n",
      "  c.reorder_categories(natsorted(c.categories), inplace=True)\n",
      "... storing 'dataset' as categorical\n",
      "/home/sturm/.conda/envs/pircher-sc-integrate2/lib/python3.8/site-packages/anndata/_core/anndata.py:1220: FutureWarning: The `inplace` parameter in pandas.Categorical.reorder_categories is deprecated and will be removed in a future version. Removing unused categories will always return a new Categorical object.\n",
      "  c.reorder_categories(natsorted(c.categories), inplace=True)\n",
      "... storing 'cell_type' as categorical\n"
     ]
    },
    {
     "name": "stdout",
     "output_type": "stream",
     "text": [
      "Validating Travaglini_Krasnow_2020_Lung_10x\n",
      "Validating Travaglini_Krasnow_2020_Lung_SS2\n"
     ]
    },
    {
     "name": "stderr",
     "output_type": "stream",
     "text": [
      "/home/sturm/.conda/envs/pircher-sc-integrate2/lib/python3.8/site-packages/anndata/_core/anndata.py:1220: FutureWarning: The `inplace` parameter in pandas.Categorical.reorder_categories is deprecated and will be removed in a future version. Removing unused categories will always return a new Categorical object.\n",
      "  c.reorder_categories(natsorted(c.categories), inplace=True)\n",
      "... storing 'patient' as categorical\n",
      "/home/sturm/.conda/envs/pircher-sc-integrate2/lib/python3.8/site-packages/anndata/_core/anndata.py:1220: FutureWarning: The `inplace` parameter in pandas.Categorical.reorder_categories is deprecated and will be removed in a future version. Removing unused categories will always return a new Categorical object.\n",
      "  c.reorder_categories(natsorted(c.categories), inplace=True)\n",
      "... storing 'sample' as categorical\n",
      "/home/sturm/.conda/envs/pircher-sc-integrate2/lib/python3.8/site-packages/anndata/_core/anndata.py:1220: FutureWarning: The `inplace` parameter in pandas.Categorical.reorder_categories is deprecated and will be removed in a future version. Removing unused categories will always return a new Categorical object.\n",
      "  c.reorder_categories(natsorted(c.categories), inplace=True)\n",
      "... storing 'cell_type' as categorical\n",
      "/home/sturm/.conda/envs/pircher-sc-integrate2/lib/python3.8/site-packages/anndata/_core/anndata.py:1220: FutureWarning: The `inplace` parameter in pandas.Categorical.reorder_categories is deprecated and will be removed in a future version. Removing unused categories will always return a new Categorical object.\n",
      "  c.reorder_categories(natsorted(c.categories), inplace=True)\n",
      "... storing 'dataset' as categorical\n"
     ]
    },
    {
     "name": "stdout",
     "output_type": "stream",
     "text": [
      "Validating UKIM-V\n"
     ]
    },
    {
     "name": "stderr",
     "output_type": "stream",
     "text": [
      "/home/sturm/.conda/envs/pircher-sc-integrate2/lib/python3.8/site-packages/anndata/_core/anndata.py:1220: FutureWarning: The `inplace` parameter in pandas.Categorical.reorder_categories is deprecated and will be removed in a future version. Removing unused categories will always return a new Categorical object.\n",
      "  c.reorder_categories(natsorted(c.categories), inplace=True)\n",
      "... storing 'sample' as categorical\n",
      "/home/sturm/.conda/envs/pircher-sc-integrate2/lib/python3.8/site-packages/anndata/_core/anndata.py:1220: FutureWarning: The `inplace` parameter in pandas.Categorical.reorder_categories is deprecated and will be removed in a future version. Removing unused categories will always return a new Categorical object.\n",
      "  c.reorder_categories(natsorted(c.categories), inplace=True)\n",
      "... storing 'dataset' as categorical\n",
      "/home/sturm/.conda/envs/pircher-sc-integrate2/lib/python3.8/site-packages/anndata/_core/anndata.py:1220: FutureWarning: The `inplace` parameter in pandas.Categorical.reorder_categories is deprecated and will be removed in a future version. Removing unused categories will always return a new Categorical object.\n",
      "  c.reorder_categories(natsorted(c.categories), inplace=True)\n",
      "... storing 'patient' as categorical\n",
      "/home/sturm/.conda/envs/pircher-sc-integrate2/lib/python3.8/site-packages/anndata/_core/anndata.py:1220: FutureWarning: The `inplace` parameter in pandas.Categorical.reorder_categories is deprecated and will be removed in a future version. Removing unused categories will always return a new Categorical object.\n",
      "  c.reorder_categories(natsorted(c.categories), inplace=True)\n",
      "... storing 'cell_type' as categorical\n",
      "/home/sturm/.conda/envs/pircher-sc-integrate2/lib/python3.8/site-packages/anndata/_core/anndata.py:1220: FutureWarning: The `inplace` parameter in pandas.Categorical.reorder_categories is deprecated and will be removed in a future version. Removing unused categories will always return a new Categorical object.\n",
      "  c.reorder_categories(natsorted(c.categories), inplace=True)\n",
      "... storing 'sample' as categorical\n",
      "/home/sturm/.conda/envs/pircher-sc-integrate2/lib/python3.8/site-packages/anndata/_core/anndata.py:1220: FutureWarning: The `inplace` parameter in pandas.Categorical.reorder_categories is deprecated and will be removed in a future version. Removing unused categories will always return a new Categorical object.\n",
      "  c.reorder_categories(natsorted(c.categories), inplace=True)\n",
      "... storing 'patient' as categorical\n",
      "/home/sturm/.conda/envs/pircher-sc-integrate2/lib/python3.8/site-packages/anndata/_core/anndata.py:1220: FutureWarning: The `inplace` parameter in pandas.Categorical.reorder_categories is deprecated and will be removed in a future version. Removing unused categories will always return a new Categorical object.\n",
      "  c.reorder_categories(natsorted(c.categories), inplace=True)\n",
      "... storing 'cell_type' as categorical\n",
      "/home/sturm/.conda/envs/pircher-sc-integrate2/lib/python3.8/site-packages/anndata/_core/anndata.py:1220: FutureWarning: The `inplace` parameter in pandas.Categorical.reorder_categories is deprecated and will be removed in a future version. Removing unused categories will always return a new Categorical object.\n",
      "  c.reorder_categories(natsorted(c.categories), inplace=True)\n",
      "... storing 'dataset' as categorical\n"
     ]
    },
    {
     "name": "stdout",
     "output_type": "stream",
     "text": [
      "Validating Vieira_Teichmann_2019_asthma\n",
      "Validating Wu_Zhou_2021_NSCLC\n"
     ]
    },
    {
     "name": "stderr",
     "output_type": "stream",
     "text": [
      "/home/sturm/.conda/envs/pircher-sc-integrate2/lib/python3.8/site-packages/anndata/_core/anndata.py:1220: FutureWarning: The `inplace` parameter in pandas.Categorical.reorder_categories is deprecated and will be removed in a future version. Removing unused categories will always return a new Categorical object.\n",
      "  c.reorder_categories(natsorted(c.categories), inplace=True)\n",
      "... storing 'sample' as categorical\n",
      "/home/sturm/.conda/envs/pircher-sc-integrate2/lib/python3.8/site-packages/anndata/_core/anndata.py:1220: FutureWarning: The `inplace` parameter in pandas.Categorical.reorder_categories is deprecated and will be removed in a future version. Removing unused categories will always return a new Categorical object.\n",
      "  c.reorder_categories(natsorted(c.categories), inplace=True)\n",
      "... storing 'sex' as categorical\n",
      "/home/sturm/.conda/envs/pircher-sc-integrate2/lib/python3.8/site-packages/anndata/_core/anndata.py:1220: FutureWarning: The `inplace` parameter in pandas.Categorical.reorder_categories is deprecated and will be removed in a future version. Removing unused categories will always return a new Categorical object.\n",
      "  c.reorder_categories(natsorted(c.categories), inplace=True)\n",
      "... storing 'patient' as categorical\n",
      "/home/sturm/.conda/envs/pircher-sc-integrate2/lib/python3.8/site-packages/anndata/_core/anndata.py:1220: FutureWarning: The `inplace` parameter in pandas.Categorical.reorder_categories is deprecated and will be removed in a future version. Removing unused categories will always return a new Categorical object.\n",
      "  c.reorder_categories(natsorted(c.categories), inplace=True)\n",
      "... storing 'cell_type' as categorical\n",
      "/home/sturm/.conda/envs/pircher-sc-integrate2/lib/python3.8/site-packages/anndata/_core/anndata.py:1220: FutureWarning: The `inplace` parameter in pandas.Categorical.reorder_categories is deprecated and will be removed in a future version. Removing unused categories will always return a new Categorical object.\n",
      "  c.reorder_categories(natsorted(c.categories), inplace=True)\n",
      "... storing 'dataset' as categorical\n"
     ]
    },
    {
     "name": "stdout",
     "output_type": "stream",
     "text": [
      "Validating Zilionis_Klein_2019_NSCLC\n"
     ]
    }
   ],
   "source": [
    "for dataset_id, adata in datasets.items():\n",
    "    print(f\"Validating {dataset_id}\")\n",
    "    sanitize_adata(adata)\n",
    "    validate_adata(adata)"
   ]
  },
  {
   "cell_type": "markdown",
   "metadata": {},
   "source": [
    "## Gene identifier remapping\n",
    "\n",
    "Use precompiled, static table for gene symbol remapping, since querying MyGene.info requires\n",
    "internet connection and is not guaranteed to be reproducible. "
   ]
  },
  {
   "cell_type": "code",
   "execution_count": 28,
   "metadata": {},
   "outputs": [],
   "source": [
    "# datasets_remapped = process_map(remap_gene_symbols, datasets.values(), max_workers=32)\n",
    "# for dataset_id, dataset in zip(datasets.keys(), datasets_remapped):\n",
    "#     datasets[dataset_id] = dataset"
   ]
  },
  {
   "cell_type": "code",
   "execution_count": 29,
   "metadata": {},
   "outputs": [],
   "source": [
    "# gene_symbol_dict = pd.concat(\n",
    "#     x.var[\"original_gene_symbol\"]\n",
    "#     .reset_index()\n",
    "#     .rename(columns={\"index\": \"gene_symbol\", \"original_gene_symbol\": \"alias\"})\n",
    "#     for x in datasets_remapped\n",
    "# ).drop_duplicates().dropna()\n",
    "# gene_symbol_dict.to_csv(\"../../tables/gene_symbol_dict.csv\")"
   ]
  },
  {
   "cell_type": "code",
   "execution_count": 30,
   "metadata": {},
   "outputs": [],
   "source": [
    "gene_symbol_df = pd.read_csv(\n",
    "    nxfvars.get(\"gene_symbol_table\", \"../../tables/gene_symbol_dict.csv\"),\n",
    "    index_col=False,\n",
    ")\n",
    "gene_symbol_dict = {\n",
    "    alias: symbol\n",
    "    for alias, symbol in zip(gene_symbol_df[\"alias\"], gene_symbol_df[\"gene_symbol\"])\n",
    "}"
   ]
  },
  {
   "cell_type": "code",
   "execution_count": 31,
   "metadata": {},
   "outputs": [],
   "source": [
    "for dataset_id, tmp_dataset in datasets.items():\n",
    "    tmp_dataset.var_names = [gene_symbol_dict.get(x, x) for x in tmp_dataset.var_names]"
   ]
  },
  {
   "cell_type": "markdown",
   "metadata": {},
   "source": [
    "### aggregate duplicate gene symbols"
   ]
  },
  {
   "cell_type": "code",
   "execution_count": 32,
   "metadata": {},
   "outputs": [
    {
     "name": "stdout",
     "output_type": "stream",
     "text": [
      "Adams_Kaminski_2020_COPD\n"
     ]
    },
    {
     "name": "stderr",
     "output_type": "stream",
     "text": [
      "100%|██████████| 22/22 [00:00<00:00, 269.72it/s]\n"
     ]
    },
    {
     "name": "stdout",
     "output_type": "stream",
     "text": [
      "Chen_Zhang_2020_NSCLC\n"
     ]
    },
    {
     "name": "stderr",
     "output_type": "stream",
     "text": [
      "100%|██████████| 18/18 [00:00<00:00, 354.56it/s]\n"
     ]
    },
    {
     "name": "stdout",
     "output_type": "stream",
     "text": [
      "Goveia_Carmeliet_2020_NSCLC\n"
     ]
    },
    {
     "name": "stderr",
     "output_type": "stream",
     "text": [
      "100%|██████████| 22/22 [00:00<00:00, 501.99it/s]\n"
     ]
    },
    {
     "name": "stdout",
     "output_type": "stream",
     "text": [
      "Guo_Zhang_2018_NSCLC\n"
     ]
    },
    {
     "name": "stderr",
     "output_type": "stream",
     "text": [
      "100%|██████████| 18/18 [00:00<00:00, 128.25it/s]\n"
     ]
    },
    {
     "name": "stdout",
     "output_type": "stream",
     "text": [
      "Habermann_Kropski_2020_pulmonary-fibrosis\n"
     ]
    },
    {
     "name": "stderr",
     "output_type": "stream",
     "text": [
      "100%|██████████| 48/48 [00:00<00:00, 392.62it/s]\n"
     ]
    },
    {
     "name": "stdout",
     "output_type": "stream",
     "text": [
      "He_Fan_2021_LUAD\n"
     ]
    },
    {
     "name": "stderr",
     "output_type": "stream",
     "text": [
      "100%|██████████| 46/46 [00:00<00:00, 381.79it/s]\n"
     ]
    },
    {
     "name": "stdout",
     "output_type": "stream",
     "text": [
      "Kim_Lee_2020_LUAD\n"
     ]
    },
    {
     "name": "stderr",
     "output_type": "stream",
     "text": [
      "100%|██████████| 15/15 [00:00<00:00, 371.36it/s]\n"
     ]
    },
    {
     "name": "stdout",
     "output_type": "stream",
     "text": [
      "Lambrechts_2018_LUAD_6149v1\n"
     ]
    },
    {
     "name": "stderr",
     "output_type": "stream",
     "text": [
      "100%|██████████| 8/8 [00:00<00:00, 429.19it/s]\n"
     ]
    },
    {
     "name": "stdout",
     "output_type": "stream",
     "text": [
      "Lambrechts_2018_LUAD_6149v2\n"
     ]
    },
    {
     "name": "stderr",
     "output_type": "stream",
     "text": [
      "100%|██████████| 15/15 [00:00<00:00, 386.47it/s]\n"
     ]
    },
    {
     "name": "stdout",
     "output_type": "stream",
     "text": [
      "Lambrechts_2018_LUAD_6653\n"
     ]
    },
    {
     "name": "stderr",
     "output_type": "stream",
     "text": [
      "100%|██████████| 14/14 [00:00<00:00, 392.79it/s]\n"
     ]
    },
    {
     "name": "stdout",
     "output_type": "stream",
     "text": [
      "Laughney_Massague_2020_NSCLC\n"
     ]
    },
    {
     "name": "stderr",
     "output_type": "stream",
     "text": [
      "100%|██████████| 29/29 [00:00<00:00, 462.65it/s]\n"
     ]
    },
    {
     "name": "stdout",
     "output_type": "stream",
     "text": [
      "Madissoon_Meyer_2020_pulmonary-fibrosis\n"
     ]
    },
    {
     "name": "stderr",
     "output_type": "stream",
     "text": [
      "100%|██████████| 53/53 [00:00<00:00, 438.82it/s]\n"
     ]
    },
    {
     "name": "stdout",
     "output_type": "stream",
     "text": [
      "Maier_Merad_2020_NSCLC\n"
     ]
    },
    {
     "name": "stderr",
     "output_type": "stream",
     "text": [
      "100%|██████████| 26/26 [00:00<00:00, 508.72it/s]\n"
     ]
    },
    {
     "name": "stdout",
     "output_type": "stream",
     "text": [
      "Maynard_Bivona_2020_NSCLC\n"
     ]
    },
    {
     "name": "stderr",
     "output_type": "stream",
     "text": [
      "100%|██████████| 20/20 [00:00<00:00, 209.39it/s]\n"
     ]
    },
    {
     "name": "stdout",
     "output_type": "stream",
     "text": [
      "Mayr_Schiller_2020_pulmonary-fibrosis\n"
     ]
    },
    {
     "name": "stderr",
     "output_type": "stream",
     "text": [
      "100%|██████████| 784/784 [00:02<00:00, 344.40it/s]\n"
     ]
    },
    {
     "name": "stdout",
     "output_type": "stream",
     "text": [
      "Reyfman_Misharin_2018_pulmonary-fibrosis\n"
     ]
    },
    {
     "name": "stderr",
     "output_type": "stream",
     "text": [
      "100%|██████████| 57/57 [00:00<00:00, 422.29it/s]\n"
     ]
    },
    {
     "name": "stdout",
     "output_type": "stream",
     "text": [
      "Travaglini_Krasnow_2020_Lung_10x\n"
     ]
    },
    {
     "name": "stderr",
     "output_type": "stream",
     "text": [
      "100%|██████████| 43/43 [00:00<00:00, 532.09it/s]"
     ]
    },
    {
     "name": "stdout",
     "output_type": "stream",
     "text": [
      "Travaglini_Krasnow_2020_Lung_SS2\n"
     ]
    },
    {
     "name": "stderr",
     "output_type": "stream",
     "text": [
      "\n",
      "100%|██████████| 31/31 [00:00<00:00, 241.47it/s]\n"
     ]
    },
    {
     "name": "stdout",
     "output_type": "stream",
     "text": [
      "UKIM-V\n"
     ]
    },
    {
     "name": "stderr",
     "output_type": "stream",
     "text": [
      "100%|██████████| 14/14 [00:00<00:00, 349.76it/s]\n"
     ]
    },
    {
     "name": "stdout",
     "output_type": "stream",
     "text": [
      "Vieira_Teichmann_2019_asthma\n"
     ]
    },
    {
     "name": "stderr",
     "output_type": "stream",
     "text": [
      "100%|██████████| 33/33 [00:00<00:00, 596.03it/s]\n"
     ]
    },
    {
     "name": "stdout",
     "output_type": "stream",
     "text": [
      "Wu_Zhou_2021_NSCLC\n"
     ]
    },
    {
     "name": "stderr",
     "output_type": "stream",
     "text": [
      "100%|██████████| 21/21 [00:00<00:00, 330.68it/s]\n"
     ]
    },
    {
     "name": "stdout",
     "output_type": "stream",
     "text": [
      "Zilionis_Klein_2019_NSCLC\n"
     ]
    },
    {
     "name": "stderr",
     "output_type": "stream",
     "text": [
      "100%|██████████| 30/30 [00:00<00:00, 300.91it/s]\n"
     ]
    }
   ],
   "source": [
    "for dataset_id, dataset in datasets.items():\n",
    "    print(dataset_id)\n",
    "    datasets[dataset_id] = aggregate_duplicate_gene_symbols(dataset)"
   ]
  },
  {
   "cell_type": "markdown",
   "metadata": {},
   "source": [
    "## Export all"
   ]
  },
  {
   "cell_type": "code",
   "execution_count": 33,
   "metadata": {},
   "outputs": [],
   "source": [
    "obs_all = pd.concat([x.obs for x in datasets.values()], ignore_index=True).reset_index(\n",
    "    drop=True\n",
    ")\n",
    "obs_all = (\n",
    "    obs_all.loc[\n",
    "        :,\n",
    "        MANDATORY_COLS\n",
    "        + [\n",
    "            \"accession\",\n",
    "            \"sampleType\",\n",
    "            \"platform\",\n",
    "            \"age\",\n",
    "            \"tobacco\",\n",
    "            \"ethnicity\",\n",
    "            \"processing_site\",\n",
    "            \"Tissue origins\",\n",
    "            \"histology\",\n",
    "            \"smoking\",\n",
    "            \"pathology\",\n",
    "            \"EGFR\",\n",
    "            \"tumor_stage\",\n",
    "            \"geo_accession\",\n",
    "            \"tissue_orig\",\n",
    "            \"replicate\",\n",
    "            \"race\",\n",
    "            \"smoking_status\",\n",
    "            \"driver_gene\",\n",
    "            \"driver_mutation\",\n",
    "            \"secondary_mutation\",\n",
    "            \"Notes\",\n",
    "            \"stage_at_diagnosis\",\n",
    "            \"pathlogy_review\",\n",
    "            \"biopsy_date\",\n",
    "            \"sort_date\",\n",
    "            \"biopsy_type\",\n",
    "            \"biopsy_time_status\",\n",
    "            \"early_treatment_status\",\n",
    "            \"best_response_status\",\n",
    "            \"biopsy_timing\",\n",
    "            \"analysis\",\n",
    "            \"treatment_history\",\n",
    "            \"treatment_history_detail\",\n",
    "            \"line_of_therapy\",\n",
    "            \"treatment_type\",\n",
    "            \"treatment\",\n",
    "            \"percent_PFS_ref_values\",\n",
    "            \"percent.PFS.reference.values\",\n",
    "            \"infections\",\n",
    "            \"early_bx_day\",\n",
    "            \"treatment_start_date\",\n",
    "            \"pfs_over_under\",\n",
    "            \"pfs_day\",\n",
    "            \"pfs_month\",\n",
    "            \"date_of_death\",\n",
    "            \"stageIII.IV_ca_dx_date\",\n",
    "            \"ca_dx_OS\",\n",
    "            \"region\",\n",
    "            \"location\",\n",
    "            \"label\",\n",
    "            \"tumor_id\",\n",
    "            \"tumor_type\",\n",
    "            \"GEO_Sample\",\n",
    "            \"biopsy_segment\",\n",
    "            \"gsm\",\n",
    "            \"characteristics_ch1.7.treatment received prior to surgery (1= treated; 0=untreated)\",\n",
    "        ],\n",
    "    ]\n",
    "    .join(dataset_table.set_index(\"id\"), on=\"dataset\")\n",
    "    .drop_duplicates(ignore_index=False)\n",
    "    .set_index(\"sample\")\n",
    ")\n",
    "# Duplicated doesn't filter out two duplicated rows, don't ask why.\n",
    "obs_all = obs_all.loc[~obs_all.index.duplicated(), :]"
   ]
  },
  {
   "cell_type": "code",
   "execution_count": 34,
   "metadata": {},
   "outputs": [],
   "source": [
    "assert (\n",
    "    obs_all.index.drop_duplicates().size == obs_all.shape[0]\n",
    "), \"The number of unique samples equals the number of rows\""
   ]
  },
  {
   "cell_type": "code",
   "execution_count": 35,
   "metadata": {},
   "outputs": [],
   "source": [
    "merged_all = merge_datasets(datasets.values(), symbol_in_n_datasets=17)"
   ]
  },
  {
   "cell_type": "code",
   "execution_count": 36,
   "metadata": {},
   "outputs": [
    {
     "data": {
      "text/plain": [
       "(1124947, 17837)"
      ]
     },
     "execution_count": 36,
     "metadata": {},
     "output_type": "execute_result"
    }
   ],
   "source": [
    "merged_all.shape"
   ]
  },
  {
   "cell_type": "code",
   "execution_count": 37,
   "metadata": {},
   "outputs": [
    {
     "data": {
      "text/html": [
       "<div>\n",
       "<style scoped>\n",
       "    .dataframe tbody tr th:only-of-type {\n",
       "        vertical-align: middle;\n",
       "    }\n",
       "\n",
       "    .dataframe tbody tr th {\n",
       "        vertical-align: top;\n",
       "    }\n",
       "\n",
       "    .dataframe thead th {\n",
       "        text-align: right;\n",
       "    }\n",
       "</style>\n",
       "<table border=\"1\" class=\"dataframe\">\n",
       "  <thead>\n",
       "    <tr style=\"text-align: right;\">\n",
       "      <th></th>\n",
       "      <th>sample</th>\n",
       "      <th>patient</th>\n",
       "      <th>tissue</th>\n",
       "      <th>origin</th>\n",
       "      <th>condition</th>\n",
       "      <th>dataset</th>\n",
       "      <th>sex</th>\n",
       "      <th>cell_type</th>\n",
       "      <th>batch</th>\n",
       "    </tr>\n",
       "  </thead>\n",
       "  <tbody>\n",
       "    <tr>\n",
       "      <th>0</th>\n",
       "      <td>Adams_Kaminski_2020_COPD_001C</td>\n",
       "      <td>Adams_Kaminski_2020_COPD_001C</td>\n",
       "      <td>lung</td>\n",
       "      <td>normal</td>\n",
       "      <td>healthy_control</td>\n",
       "      <td>Adams_Kaminski_2020_COPD</td>\n",
       "      <td>nan</td>\n",
       "      <td>unknown</td>\n",
       "      <td>Adams_Kaminski_2020_COPD_001C</td>\n",
       "    </tr>\n",
       "    <tr>\n",
       "      <th>1</th>\n",
       "      <td>Adams_Kaminski_2020_COPD_002C</td>\n",
       "      <td>Adams_Kaminski_2020_COPD_002C</td>\n",
       "      <td>lung</td>\n",
       "      <td>normal</td>\n",
       "      <td>healthy_control</td>\n",
       "      <td>Adams_Kaminski_2020_COPD</td>\n",
       "      <td>nan</td>\n",
       "      <td>unknown</td>\n",
       "      <td>Adams_Kaminski_2020_COPD_002C</td>\n",
       "    </tr>\n",
       "    <tr>\n",
       "      <th>2</th>\n",
       "      <td>Adams_Kaminski_2020_COPD_003C</td>\n",
       "      <td>Adams_Kaminski_2020_COPD_003C</td>\n",
       "      <td>lung</td>\n",
       "      <td>normal</td>\n",
       "      <td>healthy_control</td>\n",
       "      <td>Adams_Kaminski_2020_COPD</td>\n",
       "      <td>nan</td>\n",
       "      <td>unknown</td>\n",
       "      <td>Adams_Kaminski_2020_COPD_003C</td>\n",
       "    </tr>\n",
       "    <tr>\n",
       "      <th>3</th>\n",
       "      <td>Adams_Kaminski_2020_COPD_022C-a</td>\n",
       "      <td>Adams_Kaminski_2020_COPD_222C</td>\n",
       "      <td>lung</td>\n",
       "      <td>normal</td>\n",
       "      <td>healthy_control</td>\n",
       "      <td>Adams_Kaminski_2020_COPD</td>\n",
       "      <td>nan</td>\n",
       "      <td>unknown</td>\n",
       "      <td>Adams_Kaminski_2020_COPD_022C-a</td>\n",
       "    </tr>\n",
       "    <tr>\n",
       "      <th>4</th>\n",
       "      <td>Adams_Kaminski_2020_COPD_022C-b</td>\n",
       "      <td>Adams_Kaminski_2020_COPD_222C</td>\n",
       "      <td>lung</td>\n",
       "      <td>normal</td>\n",
       "      <td>healthy_control</td>\n",
       "      <td>Adams_Kaminski_2020_COPD</td>\n",
       "      <td>nan</td>\n",
       "      <td>unknown</td>\n",
       "      <td>Adams_Kaminski_2020_COPD_022C-b</td>\n",
       "    </tr>\n",
       "    <tr>\n",
       "      <th>...</th>\n",
       "      <td>...</td>\n",
       "      <td>...</td>\n",
       "      <td>...</td>\n",
       "      <td>...</td>\n",
       "      <td>...</td>\n",
       "      <td>...</td>\n",
       "      <td>...</td>\n",
       "      <td>...</td>\n",
       "      <td>...</td>\n",
       "    </tr>\n",
       "    <tr>\n",
       "      <th>1293</th>\n",
       "      <td>Zilionis_Klein_2019_NSCLC_p2t1</td>\n",
       "      <td>Zilionis_Klein_2019_NSCLC_patient_2</td>\n",
       "      <td>lung</td>\n",
       "      <td>tumor_primary</td>\n",
       "      <td>LSCC</td>\n",
       "      <td>Zilionis_Klein_2019_NSCLC</td>\n",
       "      <td>female</td>\n",
       "      <td>unknown</td>\n",
       "      <td>Zilionis_Klein_2019_NSCLC_p2t1</td>\n",
       "    </tr>\n",
       "    <tr>\n",
       "      <th>1294</th>\n",
       "      <td>Zilionis_Klein_2019_NSCLC_p4t1</td>\n",
       "      <td>Zilionis_Klein_2019_NSCLC_patient_4</td>\n",
       "      <td>lung</td>\n",
       "      <td>tumor_primary</td>\n",
       "      <td>LUAD</td>\n",
       "      <td>Zilionis_Klein_2019_NSCLC</td>\n",
       "      <td>male</td>\n",
       "      <td>unknown</td>\n",
       "      <td>Zilionis_Klein_2019_NSCLC_p4t1</td>\n",
       "    </tr>\n",
       "    <tr>\n",
       "      <th>1295</th>\n",
       "      <td>Zilionis_Klein_2019_NSCLC_p1t3</td>\n",
       "      <td>Zilionis_Klein_2019_NSCLC_patient_1</td>\n",
       "      <td>lung</td>\n",
       "      <td>tumor_primary</td>\n",
       "      <td>LSCC</td>\n",
       "      <td>Zilionis_Klein_2019_NSCLC</td>\n",
       "      <td>male</td>\n",
       "      <td>unknown</td>\n",
       "      <td>Zilionis_Klein_2019_NSCLC_p1t3</td>\n",
       "    </tr>\n",
       "    <tr>\n",
       "      <th>1296</th>\n",
       "      <td>Zilionis_Klein_2019_NSCLC_p5t1</td>\n",
       "      <td>Zilionis_Klein_2019_NSCLC_patient_5</td>\n",
       "      <td>lung</td>\n",
       "      <td>tumor_primary</td>\n",
       "      <td>LUAD</td>\n",
       "      <td>Zilionis_Klein_2019_NSCLC</td>\n",
       "      <td>female</td>\n",
       "      <td>unknown</td>\n",
       "      <td>Zilionis_Klein_2019_NSCLC_p5t1</td>\n",
       "    </tr>\n",
       "    <tr>\n",
       "      <th>1297</th>\n",
       "      <td>Zilionis_Klein_2019_NSCLC_p3t3</td>\n",
       "      <td>Zilionis_Klein_2019_NSCLC_patient_3</td>\n",
       "      <td>lung</td>\n",
       "      <td>tumor_primary</td>\n",
       "      <td>LUAD</td>\n",
       "      <td>Zilionis_Klein_2019_NSCLC</td>\n",
       "      <td>female</td>\n",
       "      <td>unknown</td>\n",
       "      <td>Zilionis_Klein_2019_NSCLC_p3t3</td>\n",
       "    </tr>\n",
       "  </tbody>\n",
       "</table>\n",
       "<p>1298 rows × 9 columns</p>\n",
       "</div>"
      ],
      "text/plain": [
       "                               sample                              patient  \\\n",
       "0       Adams_Kaminski_2020_COPD_001C        Adams_Kaminski_2020_COPD_001C   \n",
       "1       Adams_Kaminski_2020_COPD_002C        Adams_Kaminski_2020_COPD_002C   \n",
       "2       Adams_Kaminski_2020_COPD_003C        Adams_Kaminski_2020_COPD_003C   \n",
       "3     Adams_Kaminski_2020_COPD_022C-a        Adams_Kaminski_2020_COPD_222C   \n",
       "4     Adams_Kaminski_2020_COPD_022C-b        Adams_Kaminski_2020_COPD_222C   \n",
       "...                               ...                                  ...   \n",
       "1293   Zilionis_Klein_2019_NSCLC_p2t1  Zilionis_Klein_2019_NSCLC_patient_2   \n",
       "1294   Zilionis_Klein_2019_NSCLC_p4t1  Zilionis_Klein_2019_NSCLC_patient_4   \n",
       "1295   Zilionis_Klein_2019_NSCLC_p1t3  Zilionis_Klein_2019_NSCLC_patient_1   \n",
       "1296   Zilionis_Klein_2019_NSCLC_p5t1  Zilionis_Klein_2019_NSCLC_patient_5   \n",
       "1297   Zilionis_Klein_2019_NSCLC_p3t3  Zilionis_Klein_2019_NSCLC_patient_3   \n",
       "\n",
       "     tissue         origin        condition                    dataset  \\\n",
       "0      lung         normal  healthy_control   Adams_Kaminski_2020_COPD   \n",
       "1      lung         normal  healthy_control   Adams_Kaminski_2020_COPD   \n",
       "2      lung         normal  healthy_control   Adams_Kaminski_2020_COPD   \n",
       "3      lung         normal  healthy_control   Adams_Kaminski_2020_COPD   \n",
       "4      lung         normal  healthy_control   Adams_Kaminski_2020_COPD   \n",
       "...     ...            ...              ...                        ...   \n",
       "1293   lung  tumor_primary             LSCC  Zilionis_Klein_2019_NSCLC   \n",
       "1294   lung  tumor_primary             LUAD  Zilionis_Klein_2019_NSCLC   \n",
       "1295   lung  tumor_primary             LSCC  Zilionis_Klein_2019_NSCLC   \n",
       "1296   lung  tumor_primary             LUAD  Zilionis_Klein_2019_NSCLC   \n",
       "1297   lung  tumor_primary             LUAD  Zilionis_Klein_2019_NSCLC   \n",
       "\n",
       "         sex cell_type                            batch  \n",
       "0        nan   unknown    Adams_Kaminski_2020_COPD_001C  \n",
       "1        nan   unknown    Adams_Kaminski_2020_COPD_002C  \n",
       "2        nan   unknown    Adams_Kaminski_2020_COPD_003C  \n",
       "3        nan   unknown  Adams_Kaminski_2020_COPD_022C-a  \n",
       "4        nan   unknown  Adams_Kaminski_2020_COPD_022C-b  \n",
       "...      ...       ...                              ...  \n",
       "1293  female   unknown   Zilionis_Klein_2019_NSCLC_p2t1  \n",
       "1294    male   unknown   Zilionis_Klein_2019_NSCLC_p4t1  \n",
       "1295    male   unknown   Zilionis_Klein_2019_NSCLC_p1t3  \n",
       "1296  female   unknown   Zilionis_Klein_2019_NSCLC_p5t1  \n",
       "1297  female   unknown   Zilionis_Klein_2019_NSCLC_p3t3  \n",
       "\n",
       "[1298 rows x 9 columns]"
      ]
     },
     "execution_count": 37,
     "metadata": {},
     "output_type": "execute_result"
    }
   ],
   "source": [
    "merged_all.obs.drop_duplicates().reset_index(drop=True)"
   ]
  },
  {
   "cell_type": "code",
   "execution_count": 38,
   "metadata": {},
   "outputs": [
    {
     "name": "stderr",
     "output_type": "stream",
     "text": [
      "/home/sturm/.conda/envs/pircher-sc-integrate2/lib/python3.8/site-packages/anndata/_core/anndata.py:1220: FutureWarning: The `inplace` parameter in pandas.Categorical.reorder_categories is deprecated and will be removed in a future version. Removing unused categories will always return a new Categorical object.\n",
      "  c.reorder_categories(natsorted(c.categories), inplace=True)\n",
      "... storing 'sample' as categorical\n",
      "/home/sturm/.conda/envs/pircher-sc-integrate2/lib/python3.8/site-packages/anndata/_core/anndata.py:1220: FutureWarning: The `inplace` parameter in pandas.Categorical.reorder_categories is deprecated and will be removed in a future version. Removing unused categories will always return a new Categorical object.\n",
      "  c.reorder_categories(natsorted(c.categories), inplace=True)\n",
      "... storing 'patient' as categorical\n",
      "/home/sturm/.conda/envs/pircher-sc-integrate2/lib/python3.8/site-packages/anndata/_core/anndata.py:1220: FutureWarning: The `inplace` parameter in pandas.Categorical.reorder_categories is deprecated and will be removed in a future version. Removing unused categories will always return a new Categorical object.\n",
      "  c.reorder_categories(natsorted(c.categories), inplace=True)\n",
      "... storing 'tissue' as categorical\n",
      "/home/sturm/.conda/envs/pircher-sc-integrate2/lib/python3.8/site-packages/anndata/_core/anndata.py:1220: FutureWarning: The `inplace` parameter in pandas.Categorical.reorder_categories is deprecated and will be removed in a future version. Removing unused categories will always return a new Categorical object.\n",
      "  c.reorder_categories(natsorted(c.categories), inplace=True)\n",
      "... storing 'origin' as categorical\n",
      "/home/sturm/.conda/envs/pircher-sc-integrate2/lib/python3.8/site-packages/anndata/_core/anndata.py:1220: FutureWarning: The `inplace` parameter in pandas.Categorical.reorder_categories is deprecated and will be removed in a future version. Removing unused categories will always return a new Categorical object.\n",
      "  c.reorder_categories(natsorted(c.categories), inplace=True)\n",
      "... storing 'condition' as categorical\n",
      "/home/sturm/.conda/envs/pircher-sc-integrate2/lib/python3.8/site-packages/anndata/_core/anndata.py:1220: FutureWarning: The `inplace` parameter in pandas.Categorical.reorder_categories is deprecated and will be removed in a future version. Removing unused categories will always return a new Categorical object.\n",
      "  c.reorder_categories(natsorted(c.categories), inplace=True)\n",
      "... storing 'dataset' as categorical\n",
      "/home/sturm/.conda/envs/pircher-sc-integrate2/lib/python3.8/site-packages/anndata/_core/anndata.py:1220: FutureWarning: The `inplace` parameter in pandas.Categorical.reorder_categories is deprecated and will be removed in a future version. Removing unused categories will always return a new Categorical object.\n",
      "  c.reorder_categories(natsorted(c.categories), inplace=True)\n",
      "... storing 'sex' as categorical\n",
      "/home/sturm/.conda/envs/pircher-sc-integrate2/lib/python3.8/site-packages/anndata/_core/anndata.py:1220: FutureWarning: The `inplace` parameter in pandas.Categorical.reorder_categories is deprecated and will be removed in a future version. Removing unused categories will always return a new Categorical object.\n",
      "  c.reorder_categories(natsorted(c.categories), inplace=True)\n",
      "... storing 'cell_type' as categorical\n",
      "/home/sturm/.conda/envs/pircher-sc-integrate2/lib/python3.8/site-packages/anndata/_core/anndata.py:1220: FutureWarning: The `inplace` parameter in pandas.Categorical.reorder_categories is deprecated and will be removed in a future version. Removing unused categories will always return a new Categorical object.\n",
      "  c.reorder_categories(natsorted(c.categories), inplace=True)\n",
      "... storing 'batch' as categorical\n"
     ]
    }
   ],
   "source": [
    "merged_all.write_h5ad(f\"{out_dir}/merged_all.h5ad\")"
   ]
  },
  {
   "cell_type": "code",
   "execution_count": 39,
   "metadata": {},
   "outputs": [],
   "source": [
    "# Some samples drop out due to the min cells threshold. Keep only the remaining samplese in the obs table.\n",
    "obs_all.loc[merged_all.obs[\"sample\"].unique(), :].to_csv(f\"{out_dir}/obs_all.csv\")"
   ]
  }
 ],
 "metadata": {
  "jupytext": {
   "text_representation": {
    "extension": ".py",
    "format_name": "percent",
    "format_version": "1.3",
    "jupytext_version": "1.11.2"
   }
  },
  "kernelspec": {
   "display_name": "Python [conda env:.conda-pircher-sc-integrate2]",
   "language": "python",
   "name": "conda-env-.conda-pircher-sc-integrate2-py"
  },
  "language_info": {
   "codemirror_mode": {
    "name": "ipython",
    "version": 3
   },
   "file_extension": ".py",
   "mimetype": "text/x-python",
   "name": "python",
   "nbconvert_exporter": "python",
   "pygments_lexer": "ipython3",
   "version": "3.8.6"
  }
 },
 "nbformat": 4,
 "nbformat_minor": 4
}
